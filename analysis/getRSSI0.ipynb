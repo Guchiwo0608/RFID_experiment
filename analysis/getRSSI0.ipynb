{
 "cells": [
  {
   "attachments": {},
   "cell_type": "markdown",
   "metadata": {},
   "source": [
    "# 単位RSSI値計算"
   ]
  },
  {
   "cell_type": "code",
   "execution_count": 49,
   "metadata": {},
   "outputs": [],
   "source": [
    "import numpy as np\n",
    "import pandas as pd\n",
    "import matplotlib.pyplot as plt\n",
    "from numpy.random import default_rng\n",
    "from lmfit.models import SineModel\n",
    "from scipy.optimize import curve_fit\n",
    "from typing import Optional\n",
    "import itertools\n",
    "import sympy as sp\n",
    "from sympy.plotting import plot3d\n",
    "%matplotlib inline"
   ]
  },
  {
   "cell_type": "code",
   "execution_count": 50,
   "metadata": {},
   "outputs": [],
   "source": [
    "DATA_FILE_PATH = '..//data//RSSI0_GTag.csv'"
   ]
  },
  {
   "cell_type": "code",
   "execution_count": 51,
   "metadata": {},
   "outputs": [],
   "source": [
    "c = 2.998e8 #光の速度\n",
    "f = 920.4e6 #周波数\n",
    "wavelength = c / f * 100 #理論波長"
   ]
  },
  {
   "cell_type": "code",
   "execution_count": 52,
   "metadata": {},
   "outputs": [],
   "source": [
    "TAG_TABLE = {\n",
    "    'Tag1' : '2200 43CB 43A1 E48A 543D 29B9',\n",
    "    'Tag2' : 'E200 470F 45D0 6023 A129 010E',\n",
    "    'Tag3' : '9990 1912 9990 9990 9990 0137'\n",
    "}\n",
    "TARGET_TAG = 'Tag2'"
   ]
  },
  {
   "cell_type": "code",
   "execution_count": 53,
   "metadata": {},
   "outputs": [],
   "source": [
    "ANTENNA_NUMBER = 1"
   ]
  },
  {
   "cell_type": "code",
   "execution_count": 54,
   "metadata": {},
   "outputs": [],
   "source": [
    "class Rssi0:\n",
    "    def __init__(self, csv_file:str, tag_table:dict, antenna_number:int, target_tag:str):\n",
    "        self.df=pd.read_csv(csv_file)\n",
    "        self.data_size = len(self.df)\n",
    "        self.tag_table = tag_table\n",
    "        self.antenna_number = antenna_number\n",
    "        self.target_tag = target_tag\n",
    "        self.df['Tag No.'] = self.df['Tag ID'].map(self.tagTableInverseLookup)\n",
    "        self.df = self.df[(self.df['Tag No.'] == self.target_tag) & (self.df['Antenna No.']==self.antenna_number)]\n",
    "        self.df = self.df.drop(columns=['Tag ID']).set_index('Created At')\n",
    "\n",
    "    def tagTableInverseLookup(self, x:str):\n",
    "        for k,v in self.tag_table.items():\n",
    "            if x == v:\n",
    "                return k\n",
    "\n",
    "    def get_rssi0(self):\n",
    "        return self.df[(self.df['Tag No.']==TARGET_TAG) & (self.df['Antenna No.']==ANTENNA_NUMBER)]['RSSI'].mean()"
   ]
  },
  {
   "cell_type": "code",
   "execution_count": 55,
   "metadata": {},
   "outputs": [
    {
     "data": {
      "text/html": [
       "<div>\n",
       "<style scoped>\n",
       "    .dataframe tbody tr th:only-of-type {\n",
       "        vertical-align: middle;\n",
       "    }\n",
       "\n",
       "    .dataframe tbody tr th {\n",
       "        vertical-align: top;\n",
       "    }\n",
       "\n",
       "    .dataframe thead th {\n",
       "        text-align: right;\n",
       "    }\n",
       "</style>\n",
       "<table border=\"1\" class=\"dataframe\">\n",
       "  <thead>\n",
       "    <tr style=\"text-align: right;\">\n",
       "      <th></th>\n",
       "      <th>RSSI</th>\n",
       "      <th>Phase</th>\n",
       "      <th>Frequency</th>\n",
       "      <th>Antenna No.</th>\n",
       "      <th>Tag No.</th>\n",
       "    </tr>\n",
       "    <tr>\n",
       "      <th>Created At</th>\n",
       "      <th></th>\n",
       "      <th></th>\n",
       "      <th></th>\n",
       "      <th></th>\n",
       "      <th></th>\n",
       "    </tr>\n",
       "  </thead>\n",
       "  <tbody>\n",
       "    <tr>\n",
       "      <th>2022/12/19 17:51:29</th>\n",
       "      <td>-49.0</td>\n",
       "      <td>6.080700</td>\n",
       "      <td>920.4</td>\n",
       "      <td>1</td>\n",
       "      <td>Tag2</td>\n",
       "    </tr>\n",
       "    <tr>\n",
       "      <th>2022/12/19 17:51:31</th>\n",
       "      <td>-49.0</td>\n",
       "      <td>6.056156</td>\n",
       "      <td>920.4</td>\n",
       "      <td>1</td>\n",
       "      <td>Tag2</td>\n",
       "    </tr>\n",
       "    <tr>\n",
       "      <th>2022/12/19 17:51:33</th>\n",
       "      <td>-49.0</td>\n",
       "      <td>6.050020</td>\n",
       "      <td>920.4</td>\n",
       "      <td>1</td>\n",
       "      <td>Tag2</td>\n",
       "    </tr>\n",
       "    <tr>\n",
       "      <th>2022/12/19 17:51:35</th>\n",
       "      <td>-49.5</td>\n",
       "      <td>6.043884</td>\n",
       "      <td>920.4</td>\n",
       "      <td>1</td>\n",
       "      <td>Tag2</td>\n",
       "    </tr>\n",
       "    <tr>\n",
       "      <th>2022/12/19 17:51:37</th>\n",
       "      <td>-49.0</td>\n",
       "      <td>6.129787</td>\n",
       "      <td>920.4</td>\n",
       "      <td>1</td>\n",
       "      <td>Tag2</td>\n",
       "    </tr>\n",
       "  </tbody>\n",
       "</table>\n",
       "</div>"
      ],
      "text/plain": [
       "                      RSSI     Phase  Frequency  Antenna No. Tag No.\n",
       "Created At                                                          \n",
       " 2022/12/19 17:51:29 -49.0  6.080700      920.4            1    Tag2\n",
       " 2022/12/19 17:51:31 -49.0  6.056156      920.4            1    Tag2\n",
       " 2022/12/19 17:51:33 -49.0  6.050020      920.4            1    Tag2\n",
       " 2022/12/19 17:51:35 -49.5  6.043884      920.4            1    Tag2\n",
       " 2022/12/19 17:51:37 -49.0  6.129787      920.4            1    Tag2"
      ]
     },
     "execution_count": 55,
     "metadata": {},
     "output_type": "execute_result"
    }
   ],
   "source": [
    "rssi0 = Rssi0(\n",
    "    csv_file=DATA_FILE_PATH,\n",
    "    tag_table=TAG_TABLE,\n",
    "    antenna_number=ANTENNA_NUMBER,\n",
    "    target_tag=TARGET_TAG\n",
    ")\n",
    "rssi0.df.head()"
   ]
  },
  {
   "cell_type": "code",
   "execution_count": null,
   "metadata": {},
   "outputs": [],
   "source": [
    "rssi0.get_rssi0()"
   ]
  }
 ],
 "metadata": {
  "kernelspec": {
   "display_name": "Python 3",
   "language": "python",
   "name": "python3"
  },
  "language_info": {
   "codemirror_mode": {
    "name": "ipython",
    "version": 3
   },
   "file_extension": ".py",
   "mimetype": "text/x-python",
   "name": "python",
   "nbconvert_exporter": "python",
   "pygments_lexer": "ipython3",
   "version": "3.9.8"
  },
  "orig_nbformat": 4,
  "vscode": {
   "interpreter": {
    "hash": "f0447b1d6a34828d4d0619583015290e7fdd5674fb6ed1826a9eaf60c98b839f"
   }
  }
 },
 "nbformat": 4,
 "nbformat_minor": 2
}

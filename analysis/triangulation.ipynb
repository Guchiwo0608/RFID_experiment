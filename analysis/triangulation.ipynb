{
 "cells": [
  {
   "cell_type": "markdown",
   "metadata": {},
   "source": [
    "# 三点測量による三次元測位"
   ]
  },
  {
   "cell_type": "markdown",
   "metadata": {},
   "source": [
    "\n",
    "- 位相とRSSIを併用した測距手法で３つのアンテナから測定した距離を用いた三点測量により、タグの位置を三次元プロットする。\n",
    "- 三点測量法は、アンテナからタグまでの距離を半径とした３つの球の交点を測定位置とする。"
   ]
  },
  {
   "cell_type": "markdown",
   "metadata": {},
   "source": [
    "1. パッケージのimport"
   ]
  },
  {
   "cell_type": "code",
   "execution_count": 91,
   "metadata": {},
   "outputs": [],
   "source": [
    "import numpy as np\n",
    "import pandas as pd\n",
    "import matplotlib.pyplot as plt\n",
    "import math\n",
    "from numpy.random import default_rng\n",
    "from lmfit.models import SineModel\n",
    "from scipy.optimize import curve_fit\n",
    "%matplotlib inline"
   ]
  },
  {
   "cell_type": "markdown",
   "metadata": {},
   "source": [
    "2. 各定数の設定"
   ]
  },
  {
   "cell_type": "code",
   "execution_count": 92,
   "metadata": {},
   "outputs": [],
   "source": [
    "c = 2.998e8 #光の速度\n",
    "f = 920.4e6 #周波数\n",
    "wavelength = c / f * 100 #理論波長\n",
    "RSSI0 = -58.5 #単位RSSI"
   ]
  },
  {
   "cell_type": "markdown",
   "metadata": {},
   "source": [
    "3. 使用するタグの一覧"
   ]
  },
  {
   "cell_type": "code",
   "execution_count": 93,
   "metadata": {},
   "outputs": [],
   "source": [
    "TagTable1 = {\n",
    "    'Tag1' : '9990 1912 9990 9990 9990 0097',\n",
    "    'Tag2' : '9990 1912 9990 9990 9990 0098',\n",
    "    'Tag3' : '9990 1912 9990 9990 9990 0099',\n",
    "    'Tag4' : '9990 1912 9990 9990 9990 0100',\n",
    "    'Tag5' : '9990 1912 9990 9990 9990 0101',\n",
    "    'Tag6' : '9990 1912 9990 9990 9990 0102',\n",
    "    'Tag7' : '9990 1912 9990 9990 9990 0103',\n",
    "    'Tag8' : '9990 1912 9990 9990 9990 0104',\n",
    "    'Tag9' : '9990 1912 9990 9990 9990 0105',\n",
    "    'Tag10' : '9990 1912 9990 9990 9990 0106',\n",
    "}"
   ]
  },
  {
   "cell_type": "code",
   "execution_count": 94,
   "metadata": {},
   "outputs": [],
   "source": [
    "class RfidDf:\n",
    "    def __init__(self, csv_file:str, tag_table:dict):\n",
    "        self.df=pd.read_csv(csv_file)\n",
    "        self.data_size = len(self.df)\n",
    "        self.tag_table = tag_table\n",
    "\n",
    "    def culDistance(self, value:float):\n",
    "        return pow(10, (RSSI0 - value)/20) * 100\n",
    "\n",
    "    def tagTableInverseLookup(self, x:str):\n",
    "        for k,v in self.tag_table.items():\n",
    "            if x == v:\n",
    "                return k                                                                                                                                                                                                                                                                                                                                                                                                                                                                                                                                                                                                                                                                                                                                                                                                                                                                                                                                                                                                                                                                                                                                                                                                                                                                                                                                                                                                                                                                                                                                                                                                                                                                                                                                                                                                                                                                                                                                                                                                                                                                                                                                                                                                                                                                                                                                                                                                                                                                                                                                                                                                                                                                                                                                                                                                                                                                                                                                                                                                                                                                                                                                                                                                                                                                                                                                                                                                                                                                                                                                                                                 \n",
    "\n",
    "    def addDistance(self):\n",
    "        columns = ['Tag No.', 'RSSI', 'Distance', 'Phase']\n",
    "        data = np.empty((0,4))\n",
    "        for i in range(0, len(self.df)-1):\n",
    "            if self.df['Tag ID'][i] in self.tag_table.values():\n",
    "                data=np.append(\n",
    "                    data,\n",
    "                    [[self.tagTableInverseLookup(self.df['Tag ID'][i]), self.df['RSSI'][i], float(self.culDistance(self.df['RSSI'][i])), self.df['Phase'][i]]],\n",
    "                    axis=0\n",
    "                )\n",
    "        df2 = pd.DataFrame(\n",
    "            columns=columns,\n",
    "            data = data\n",
    "        )\n",
    "        return df2\n",
    "\n",
    "    def getMean(self):\n",
    "        columns = ['Tag No.', 'Block Base', 'RSSI', 'Phase']\n",
    "        data = np.empty((0,4))\n",
    "        for i in range(1, len(self.tag_table)+1):\n",
    "                rfiddf = self.df[self.df['Tag ID'] == self.tag_table[f'Tag{i}']]\n",
    "                data = np.append(\n",
    "                    data,\n",
    "                    [[f'Tag {i}', 16.28 * (i-1), rfiddf['RSSI'].mean(), rfiddf['Phase'].mean()]],\n",
    "                    axis=0\n",
    "                )\n",
    "        rfiddf2 = pd.DataFrame(\n",
    "            columns=columns,\n",
    "            data=data\n",
    "        )\n",
    "        return rfiddf2\n",
    "\n",
    "    def getTagInfoList(self, info_type:str):\n",
    "        return [[float(item) for item in self.addDistance()[self.addDistance()['Tag No.'] == f'Tag{i}'][info_type].tolist()] for i in range(1, len(self.tag_table)+1)]"
   ]
  },
  {
   "cell_type": "code",
   "execution_count": 95,
   "metadata": {},
   "outputs": [
    {
     "data": {
      "text/html": [
       "<div>\n",
       "<style scoped>\n",
       "    .dataframe tbody tr th:only-of-type {\n",
       "        vertical-align: middle;\n",
       "    }\n",
       "\n",
       "    .dataframe tbody tr th {\n",
       "        vertical-align: top;\n",
       "    }\n",
       "\n",
       "    .dataframe thead th {\n",
       "        text-align: right;\n",
       "    }\n",
       "</style>\n",
       "<table border=\"1\" class=\"dataframe\">\n",
       "  <thead>\n",
       "    <tr style=\"text-align: right;\">\n",
       "      <th></th>\n",
       "      <th>Tag No.</th>\n",
       "      <th>Block Base</th>\n",
       "      <th>RSSI</th>\n",
       "      <th>Phase</th>\n",
       "    </tr>\n",
       "  </thead>\n",
       "  <tbody>\n",
       "    <tr>\n",
       "      <th>0</th>\n",
       "      <td>Tag 1</td>\n",
       "      <td>0.0</td>\n",
       "      <td>-42.8921568627451</td>\n",
       "      <td>0.6898702617832364</td>\n",
       "    </tr>\n",
       "    <tr>\n",
       "      <th>1</th>\n",
       "      <td>Tag 2</td>\n",
       "      <td>16.28</td>\n",
       "      <td>-42.765306122448976</td>\n",
       "      <td>5.940575394064883</td>\n",
       "    </tr>\n",
       "    <tr>\n",
       "      <th>2</th>\n",
       "      <td>Tag 3</td>\n",
       "      <td>32.56</td>\n",
       "      <td>-47.46938775510204</td>\n",
       "      <td>1.023947828778848</td>\n",
       "    </tr>\n",
       "    <tr>\n",
       "      <th>3</th>\n",
       "      <td>Tag 4</td>\n",
       "      <td>48.84</td>\n",
       "      <td>-49.795918367346935</td>\n",
       "      <td>6.1367997119927855</td>\n",
       "    </tr>\n",
       "    <tr>\n",
       "      <th>4</th>\n",
       "      <td>Tag 5</td>\n",
       "      <td>65.12</td>\n",
       "      <td>-56.45652173913044</td>\n",
       "      <td>2.0790775261199603</td>\n",
       "    </tr>\n",
       "  </tbody>\n",
       "</table>\n",
       "</div>"
      ],
      "text/plain": [
       "  Tag No. Block Base                 RSSI               Phase\n",
       "0   Tag 1        0.0    -42.8921568627451  0.6898702617832364\n",
       "1   Tag 2      16.28  -42.765306122448976   5.940575394064883\n",
       "2   Tag 3      32.56   -47.46938775510204   1.023947828778848\n",
       "3   Tag 4      48.84  -49.795918367346935  6.1367997119927855\n",
       "4   Tag 5      65.12   -56.45652173913044  2.0790775261199603"
      ]
     },
     "execution_count": 95,
     "metadata": {},
     "output_type": "execute_result"
    }
   ],
   "source": [
    "rfiddf = RfidDf(csv_file='results2.csv', tag_table=TagTable1)\n",
    "rfiddf.getMean().head()"
   ]
  },
  {
   "cell_type": "code",
   "execution_count": 96,
   "metadata": {},
   "outputs": [
    {
     "data": {
      "text/html": [
       "<div>\n",
       "<style scoped>\n",
       "    .dataframe tbody tr th:only-of-type {\n",
       "        vertical-align: middle;\n",
       "    }\n",
       "\n",
       "    .dataframe tbody tr th {\n",
       "        vertical-align: top;\n",
       "    }\n",
       "\n",
       "    .dataframe thead th {\n",
       "        text-align: right;\n",
       "    }\n",
       "</style>\n",
       "<table border=\"1\" class=\"dataframe\">\n",
       "  <thead>\n",
       "    <tr style=\"text-align: right;\">\n",
       "      <th></th>\n",
       "      <th>Tag No.</th>\n",
       "      <th>RSSI</th>\n",
       "      <th>Distance</th>\n",
       "      <th>Phase</th>\n",
       "    </tr>\n",
       "  </thead>\n",
       "  <tbody>\n",
       "    <tr>\n",
       "      <th>0</th>\n",
       "      <td>Tag4</td>\n",
       "      <td>-64.0</td>\n",
       "      <td>188.36490894898006</td>\n",
       "      <td>5.71868037723767</td>\n",
       "    </tr>\n",
       "    <tr>\n",
       "      <th>1</th>\n",
       "      <td>Tag2</td>\n",
       "      <td>-55.0</td>\n",
       "      <td>66.83439175686146</td>\n",
       "      <td>2.5157284921324514</td>\n",
       "    </tr>\n",
       "    <tr>\n",
       "      <th>2</th>\n",
       "      <td>Tag6</td>\n",
       "      <td>-60.5</td>\n",
       "      <td>125.89254117941672</td>\n",
       "      <td>4.086524818927348</td>\n",
       "    </tr>\n",
       "    <tr>\n",
       "      <th>3</th>\n",
       "      <td>Tag1</td>\n",
       "      <td>-50.5</td>\n",
       "      <td>39.81071705534972</td>\n",
       "      <td>3.2459033471660166</td>\n",
       "    </tr>\n",
       "    <tr>\n",
       "      <th>4</th>\n",
       "      <td>Tag5</td>\n",
       "      <td>-61.0</td>\n",
       "      <td>133.3521432163324</td>\n",
       "      <td>0.7915340865489908</td>\n",
       "    </tr>\n",
       "  </tbody>\n",
       "</table>\n",
       "</div>"
      ],
      "text/plain": [
       "  Tag No.   RSSI            Distance               Phase\n",
       "0    Tag4  -64.0  188.36490894898006    5.71868037723767\n",
       "1    Tag2  -55.0   66.83439175686146  2.5157284921324514\n",
       "2    Tag6  -60.5  125.89254117941672   4.086524818927348\n",
       "3    Tag1  -50.5   39.81071705534972  3.2459033471660166\n",
       "4    Tag5  -61.0   133.3521432163324  0.7915340865489908"
      ]
     },
     "execution_count": 96,
     "metadata": {},
     "output_type": "execute_result"
    }
   ],
   "source": [
    "rfiddf.addDistance().head()"
   ]
  },
  {
   "cell_type": "code",
   "execution_count": 97,
   "metadata": {},
   "outputs": [],
   "source": [
    "class RfidDfPlotter:\n",
    "    def __init__(self, rfid_df:RfidDf):\n",
    "        self.rfid_df = rfid_df\n",
    "        self.infoTypeYticks = {\n",
    "            'RSSI' : np.arange(-65, -39, 5),\n",
    "            'Distance' : np.arange(0, 170, 16.8),\n",
    "            'Phase' : np.arange(-6.5, 6.5, 0.5)\n",
    "        }\n",
    "        \n",
    "    def rfiddfBoxplot(self, data_type:str):\n",
    "        fig, ax = plt.subplots(figsize=(10,10))\n",
    "        ax.boxplot(self.rfid_df.getTagInfoList(data_type))\n",
    "        ax.set_xticklabels(list(rfiddf.tag_table.keys()))\n",
    "        ax.set_yticks(self.infoTypeYticks[data_type])\n"
   ]
  },
  {
   "cell_type": "code",
   "execution_count": 98,
   "metadata": {},
   "outputs": [
    {
     "data": {
      "image/png": "[encoded data removed]",
      "text/plain": [
       "<Figure size 720x720 with 1 Axes>"
      ]
     },
     "metadata": {
      "needs_background": "light"
     },
     "output_type": "display_data"
    }
   ],
   "source": [
    "rfidPlotter = RfidDfPlotter(rfiddf)\n",
    "rfidPlotter.rfiddfBoxplot('Distance')"
   ]
  }
 ],
 "metadata": {
  "kernelspec": {
   "display_name": "Python 3.9.8 64-bit ('3.9.8')",
   "language": "python",
   "name": "python3"
  },
  "language_info": {
   "codemirror_mode": {
    "name": "ipython",
    "version": 3
   },
   "file_extension": ".py",
   "mimetype": "text/x-python",
   "name": "python",
   "nbconvert_exporter": "python",
   "pygments_lexer": "ipython3",
   "version": "3.9.8"
  },
  "orig_nbformat": 4,
  "vscode": {
   "interpreter": {
    "hash": "f0447b1d6a34828d4d0619583015290e7fdd5674fb6ed1826a9eaf60c98b839f"
   }
  }
 },
 "nbformat": 4,
 "nbformat_minor": 2
}

{
 "cells": [
  {
   "attachments": {},
   "cell_type": "markdown",
   "metadata": {},
   "source": [
    "# AoA方式(二次元)"
   ]
  },
  {
   "cell_type": "code",
   "execution_count": 926,
   "metadata": {},
   "outputs": [],
   "source": [
    "import numpy as np\n",
    "import pandas as pd\n",
    "import matplotlib.pyplot as plt\n",
    "from numpy.random import default_rng\n",
    "from lmfit.models import SineModel\n",
    "from scipy.optimize import curve_fit\n",
    "from typing import Optional\n",
    "import sympy as sp\n",
    "from sympy.plotting import plot3d\n",
    "from components import point2d as p2\n",
    "from components import point3d as p3\n",
    "from components import antennaPair as antp\n",
    "from components import antenna as ant\n",
    "import itertools\n",
    "%matplotlib inline"
   ]
  },
  {
   "cell_type": "code",
   "execution_count": 927,
   "metadata": {},
   "outputs": [
    {
     "name": "stdout",
     "output_type": "stream",
     "text": [
      "波長λ:32.57279443720122, Lの最大値:29.124828154140907\n"
     ]
    }
   ],
   "source": [
    "c = 2.998e8 #光の速度\n",
    "f = 920.4e6 #周波数\n",
    "WAVE_LENGTH = c / f * 100 #理論波長\n",
    "THETA_M = 34 * np.pi / 180\n",
    "MAX_L = WAVE_LENGTH / (2 * np.sin(THETA_M))\n",
    "L = 25\n",
    "R = 45\n",
    "DATA_LENGTH = 50\n",
    "print(f'波長λ:{WAVE_LENGTH}, Lの最大値:{MAX_L}')"
   ]
  },
  {
   "cell_type": "code",
   "execution_count": 929,
   "metadata": {},
   "outputs": [],
   "source": [
    "DATA_FILE_PATH_LIST=[\n",
    "    '..//data//triangulation_GTag_0.csv',\n",
    "    '..//data//triangulation_GTag_p20.csv',\n",
    "    '..//data//triangulation_GTag_m20.csv',\n",
    "    '..//data//triangulation_GTag_p30.csv',\n",
    "    '..//data//triangulation_GTag_m30.csv',\n",
    "    '..//data//aoa_localizaton_m25_m25.csv'\n",
    "]"
   ]
  },
  {
   "cell_type": "code",
   "execution_count": 930,
   "metadata": {},
   "outputs": [],
   "source": [
    "TARGET_TAG = 'E200 470F C1A0 6023 A8E6 010F'"
   ]
  },
  {
   "cell_type": "code",
   "execution_count": 931,
   "metadata": {},
   "outputs": [],
   "source": [
    "ANTENNA_PAIR_LIST = {\n",
    "    'Pair1' : [ant.Antenna(point=p2.Point2d(-12.5, -200), frequency=920.4, number=4, theta_m=34),ant.Antenna(point=p2.Point2d(12.5, -200), frequency=920.4, number=6, theta_m=34)],\n",
    "    'Pair2' : [ant.Antenna(point=p2.Point2d(-12.5, 200), frequency=920.4, number=4, theta_m=34),ant.Antenna(point=p2.Point2d(12.5, 200), frequency=920.4, number=6, theta_m=34)]\n",
    "}"
   ]
  },
  {
   "cell_type": "code",
   "execution_count": null,
   "metadata": {},
   "outputs": [],
   "source": [
    "ANGLE_RANGE = range(int(-(len(DATA_FILE_PATH_LIST)-1)/2*5), int((len(DATA_FILE_PATH_LIST)-1)/2*5+5), 5)\n",
    "R1_LIST = [np.sqrt(pow(R, 2) + pow((L/2), 2) + R * L * np.sin((i) * np.pi / 180)) for i in ANGLE_RANGE]\n",
    "R2_LIST = [np.sqrt(pow(R, 2) + pow((L/2), 2) - R * L * np.sin((i) * np.pi / 180)) for i in ANGLE_RANGE]\n",
    "ACTUAL_PHASE1 = [(-4 * np.pi / WAVE_LENGTH * R1_LIST[i]) % (2 * np.pi) for i in range(0,len(DATA_FILE_PATH_LIST))]\n",
    "ACTUAL_PHASE2 = [(-4 * np.pi / WAVE_LENGTH * R2_LIST[i]) % (2 * np.pi) for i in range(0,len(DATA_FILE_PATH_LIST))]"
   ]
  },
  {
   "cell_type": "code",
   "execution_count": 932,
   "metadata": {},
   "outputs": [],
   "source": [
    "class RfidDf:\n",
    "    def __init__(self, csv_file:str, phi0_file:str, antenna_pair_list:dict, target_tag:str):\n",
    "        self.df=pd.read_csv(csv_file)\n",
    "        phi0_df = pd.read_csv(phi0_file)\n",
    "        self.data_size = len(self.df)\n",
    "        self.antenna_pair_list = antenna_pair_list\n",
    "        self.target_tag = target_tag\n",
    "        self.df = self.df[self.df['Tag ID'] == self.target_tag]\n",
    "        self.df['Antenna Pair No.'] = self.df['Antenna No.'].apply(self.__get_antenna_pair_number)\n",
    "        self.df['Phase'] = self.df['Phase'].astype(float)\n",
    "        self.df['RSSI'] = self.df['RSSI'].astype(float)\n",
    "        self.df = self.df.drop(['Tag ID'], axis=1).set_index(['Antenna Pair No.', 'Antenna No.', 'Data Number'])\n",
    "        phi0_df = phi0_df[phi0_df['Tag ID'] == self.target_tag]\n",
    "        phi0_df['Antenna Pair No.'] = phi0_df['Antenna No.'].apply(self.__get_antenna_pair_number)\n",
    "        phi0_df['Phase'] = phi0_df['Phase'].astype(float)\n",
    "        phi0_df['RSSI'] = phi0_df['RSSI'].astype(float)\n",
    "        phi0_df = phi0_df.drop(['Tag ID'], axis=1).set_index(['Antenna Pair No.', 'Antenna No.', 'Data Number'])\n",
    "        self.phi0 = self.get_phi0(phi0_df=phi0_df)\n",
    "    \n",
    "    def __get_antenna_pair_number(self, antenna_number:int) -> str:\n",
    "        for k in self.antenna_pair_list:\n",
    "            for i in self.antenna_pair_list[k]:\n",
    "                if i.number == antenna_number:\n",
    "                    return k\n",
    "\n",
    "    def __get_phase_diff(self, phase1:float, phase2:float, rssi1:float, rssi2:float) -> float:\n",
    "        delta_phi = (phase1-phase2)-(self.phi0[0]-self.phi0[1])\n",
    "        if (delta_phi < 0) & (rssi1 > rssi2):\n",
    "            delta_phi = delta_phi + 2 * np.pi\n",
    "        if (delta_phi >= 0) & (rssi1 <= rssi2):\n",
    "            delta_phi = delta_phi - 2 * np.pi\n",
    "        return delta_phi\n",
    "\n",
    "    def __cul_angle_from_phase(self, phase1:float, phase2:float, rssi1:float, rssi2:float) -> float:\n",
    "        return np.arcsin(-WAVE_LENGTH / (4 * np.pi * L) * self.__get_phase_diff(phase1, phase2, rssi1, rssi2)) * 180 / np.pi\n",
    "\n",
    "    def get_phi0(self, phi0_df:pd.DataFrame) -> list:\n",
    "        ant1_phi0=0\n",
    "        ant2_phi0 = 0\n",
    "        for pair in self.antenna_pair_list:\n",
    "            ant1 = self.antenna_pair_list[pair][0]\n",
    "            ant2 = self.antenna_pair_list[pair][1]\n",
    "            ant1_phi0 = phi0_df.sort_index().loc[(pair, ant1.number)]['Phase'].mean() + ACTUAL_PHASE1[8]\n",
    "            ant2_phi0 = phi0_df.sort_index().loc[(pair, ant2.number)]['Phase'].mean() + ACTUAL_PHASE1[8]\n",
    "        return [ant1_phi0, ant2_phi0]\n",
    "\n",
    "    def __get_angles_from_phase(self) -> dict:\n",
    "        result = {}\n",
    "        for pair in self.antenna_pair_list:\n",
    "            ant1 = self.antenna_pair_list[pair][0]\n",
    "            ant2 = self.antenna_pair_list[pair][1]\n",
    "            phase_diff_mean = 0\n",
    "            angle_mean = 0\n",
    "            for i in range(0, DATA_LENGTH):\n",
    "                ant1_phase = (self.df.xs((pair, ant1.number, i))['Phase']) % (2 * np.pi)\n",
    "                ant2_phase = (self.df.xs((pair, ant2.number, i))['Phase']) % (2 * np.pi)\n",
    "                ant1_rssi = self.df.xs((pair, ant1.number, i))['RSSI']\n",
    "                ant2_rssi = self.df.xs((pair, ant2.number, i))['RSSI']\n",
    "                phase_diff_mean = (phase_diff_mean + self.__get_phase_diff(ant1_phase, ant2_phase, ant1_rssi, ant2_rssi)) / 2\n",
    "                angle_mean = (angle_mean + self.__cul_angle_from_phase(ant1_phase, ant2_phase, ant1_rssi, ant2_rssi)) / 2\n",
    "            result[pair][\"phase_diff\"] = phase_diff_mean\n",
    "            result[pair][\"angle_mean\"] = angle_mean\n",
    "        return result\n",
    "\n",
    "    def get_coordinate(self) -> dict:\n",
    "        angles = self.__get_angles_from_phase()\n",
    "        pair1 = self.antenna_pair_list[\"Pair1\"]\n",
    "        pair2 = self.antenna_pair_list[\"Pair2\"]\n",
    "        pair1_point = p2.Point2d(x=(pair1[0].point.x + pair1[1].point.x) / 2, y=(pair1[0].point.y + pair1[1].point.y) / 2)\n",
    "        pair2_point = p2.Point2d(x=(pair2[0].point.x + pair2[1].point.x) / 2, y=(pair2[0].point.y + pair2[1].point.y) / 2)\n",
    "        pair1_angle = angles[\"Pair1\"][\"angle_mean\"]\n",
    "        pair2_angle = angles['Pair2'][\"angle_mean\"]\n",
    "        result = {\n",
    "            \"x\" : np.tan(pair1_angle) * np.tan(pair2_angle) / (np.tan(pair1_angle) - np.tan(pair2_angle)) * (pair1_point - pair2_point),\n",
    "            \"y\" : (pair1_point * np.tan(pair1_angle) - pair2_point * np.tan(pair2_angle)) / (np.tan(pair1_angle) - np.tan(pair2_angle))\n",
    "        }"
   ]
  },
  {
   "cell_type": "code",
   "execution_count": 933,
   "metadata": {},
   "outputs": [],
   "source": [
    "triangulation = RfidDf(\n",
    "    csv_file=DATA_FILE_PATH_LIST[5],\n",
    "    phi0_file=DATA_FILE_PATH_LIST[8],\n",
    "    antenna_pair_list=ANTENNA_PAIR_LIST,\n",
    "    target_tag=TARGET_TAG,\n",
    ")"
   ]
  },
  {
   "cell_type": "code",
   "execution_count": 934,
   "metadata": {},
   "outputs": [],
   "source": [
    "result = triangulation.get_coordinate()\n",
    "print(result)"
   ]
  }
 ],
 "metadata": {
  "kernelspec": {
   "display_name": "Python 3",
   "language": "python",
   "name": "python3"
  },
  "language_info": {
   "codemirror_mode": {
    "name": "ipython",
    "version": 3
   },
   "file_extension": ".py",
   "mimetype": "text/x-python",
   "name": "python",
   "nbconvert_exporter": "python",
   "pygments_lexer": "ipython3",
   "version": "3.9.8 (main, Apr  8 2022, 16:57:59) \n[Clang 13.1.6 (clang-1316.0.21.2)]"
  },
  "orig_nbformat": 4,
  "vscode": {
   "interpreter": {
    "hash": "f0447b1d6a34828d4d0619583015290e7fdd5674fb6ed1826a9eaf60c98b839f"
   }
  }
 },
 "nbformat": 4,
 "nbformat_minor": 2
}

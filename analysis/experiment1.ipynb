{
 "cells": [
  {
   "cell_type": "markdown",
   "metadata": {},
   "source": [
    "# RSSIと位相情報を可視化し精度確認\n"
   ]
  },
  {
   "cell_type": "markdown",
   "metadata": {},
   "source": [
    "* 以下前提情報\n",
    "    * Tag ID : E200 420D 49E0 6014 04E6 318A\n",
    "    * 周波数 : 920.4MHz\n",
    "    * タグの種類 : タイヤタグ\n",
    "    * 送信電波出力 : 30.0dMb\n",
    "    * タグ情報取得レート : 一秒ごとに一秒間取得\n",
    "    * 各距離に対して、11回タグ情報を取得し、そのRSSIと位相の平均値を取得"
   ]
  },
  {
   "cell_type": "code",
   "execution_count": 68,
   "metadata": {},
   "outputs": [],
   "source": [
    "import numpy as np\n",
    "import pandas as pd\n",
    "import matplotlib.pyplot as plt\n",
    "from numpy.random import default_rng\n",
    "from lmfit.models import SineModel\n",
    "from scipy.optimize import curve_fit\n",
    "%matplotlib inline"
   ]
  },
  {
   "cell_type": "markdown",
   "metadata": {},
   "source": [
    "1. 読み取るタグ郡"
   ]
  },
  {
   "cell_type": "code",
   "execution_count": 69,
   "metadata": {},
   "outputs": [],
   "source": [
    "TagTable = {\n",
    "    'Tag1' : 'E200 420D 49E0 6014 04E6 318A'\n",
    "}"
   ]
  },
  {
   "cell_type": "markdown",
   "metadata": {},
   "source": [
    "2. 単位RSSI"
   ]
  },
  {
   "cell_type": "code",
   "execution_count": 70,
   "metadata": {},
   "outputs": [],
   "source": [
    "RSSI0 = -58.5"
   ]
  },
  {
   "cell_type": "markdown",
   "metadata": {},
   "source": [
    "2. CSVファイルを読み取り内容を出力"
   ]
  },
  {
   "cell_type": "code",
   "execution_count": 89,
   "metadata": {},
   "outputs": [
    {
     "name": "stdout",
     "output_type": "stream",
     "text": [
      "550\n"
     ]
    },
    {
     "data": {
      "text/html": [
       "<div>\n",
       "<style scoped>\n",
       "    .dataframe tbody tr th:only-of-type {\n",
       "        vertical-align: middle;\n",
       "    }\n",
       "\n",
       "    .dataframe tbody tr th {\n",
       "        vertical-align: top;\n",
       "    }\n",
       "\n",
       "    .dataframe thead th {\n",
       "        text-align: right;\n",
       "    }\n",
       "</style>\n",
       "<table border=\"1\" class=\"dataframe\">\n",
       "  <thead>\n",
       "    <tr style=\"text-align: right;\">\n",
       "      <th></th>\n",
       "      <th>Tag ID</th>\n",
       "      <th>RSSI</th>\n",
       "      <th>Phase</th>\n",
       "      <th>Frequency</th>\n",
       "      <th>Antenna No</th>\n",
       "      <th>Created At</th>\n",
       "    </tr>\n",
       "  </thead>\n",
       "  <tbody>\n",
       "    <tr>\n",
       "      <th>0</th>\n",
       "      <td>E200 420D 49E0 6014 04E6 318A</td>\n",
       "      <td>-43.0</td>\n",
       "      <td>3.356350</td>\n",
       "      <td>920.4</td>\n",
       "      <td>7</td>\n",
       "      <td>2022/09/20 13:32:28</td>\n",
       "    </tr>\n",
       "    <tr>\n",
       "      <th>1</th>\n",
       "      <td>E200 420D 49E0 6014 04E6 318A</td>\n",
       "      <td>-43.0</td>\n",
       "      <td>3.368622</td>\n",
       "      <td>920.4</td>\n",
       "      <td>7</td>\n",
       "      <td>2022/09/20 13:32:30</td>\n",
       "    </tr>\n",
       "    <tr>\n",
       "      <th>2</th>\n",
       "      <td>E200 420D 49E0 6014 04E6 318A</td>\n",
       "      <td>-43.0</td>\n",
       "      <td>3.350214</td>\n",
       "      <td>920.4</td>\n",
       "      <td>7</td>\n",
       "      <td>2022/09/20 13:32:32</td>\n",
       "    </tr>\n",
       "    <tr>\n",
       "      <th>3</th>\n",
       "      <td>E200 420D 49E0 6014 04E6 318A</td>\n",
       "      <td>-43.0</td>\n",
       "      <td>3.350214</td>\n",
       "      <td>920.4</td>\n",
       "      <td>7</td>\n",
       "      <td>2022/09/20 13:32:34</td>\n",
       "    </tr>\n",
       "    <tr>\n",
       "      <th>4</th>\n",
       "      <td>E200 420D 49E0 6014 04E6 318A</td>\n",
       "      <td>-43.0</td>\n",
       "      <td>3.356350</td>\n",
       "      <td>920.4</td>\n",
       "      <td>7</td>\n",
       "      <td>2022/09/20 13:32:36</td>\n",
       "    </tr>\n",
       "  </tbody>\n",
       "</table>\n",
       "</div>"
      ],
      "text/plain": [
       "                          Tag ID  RSSI     Phase  Frequency  Antenna No  \\\n",
       "0  E200 420D 49E0 6014 04E6 318A -43.0  3.356350      920.4           7   \n",
       "1  E200 420D 49E0 6014 04E6 318A -43.0  3.368622      920.4           7   \n",
       "2  E200 420D 49E0 6014 04E6 318A -43.0  3.350214      920.4           7   \n",
       "3  E200 420D 49E0 6014 04E6 318A -43.0  3.350214      920.4           7   \n",
       "4  E200 420D 49E0 6014 04E6 318A -43.0  3.356350      920.4           7   \n",
       "\n",
       "             Created At  \n",
       "0   2022/09/20 13:32:28  \n",
       "1   2022/09/20 13:32:30  \n",
       "2   2022/09/20 13:32:32  \n",
       "3   2022/09/20 13:32:34  \n",
       "4   2022/09/20 13:32:36  "
      ]
     },
     "execution_count": 89,
     "metadata": {},
     "output_type": "execute_result"
    }
   ],
   "source": [
    "rfiddf=pd.read_csv('results.csv')\n",
    "data_size = len(rfiddf)\n",
    "rfiddf.head()"
   ]
  },
  {
   "cell_type": "code",
   "execution_count": 72,
   "metadata": {},
   "outputs": [
    {
     "data": {
      "text/html": [
       "<div>\n",
       "<style scoped>\n",
       "    .dataframe tbody tr th:only-of-type {\n",
       "        vertical-align: middle;\n",
       "    }\n",
       "\n",
       "    .dataframe tbody tr th {\n",
       "        vertical-align: top;\n",
       "    }\n",
       "\n",
       "    .dataframe thead th {\n",
       "        text-align: right;\n",
       "    }\n",
       "</style>\n",
       "<table border=\"1\" class=\"dataframe\">\n",
       "  <thead>\n",
       "    <tr style=\"text-align: right;\">\n",
       "      <th></th>\n",
       "      <th>RSSI</th>\n",
       "      <th>Phase</th>\n",
       "      <th>Frequency</th>\n",
       "      <th>Antenna No</th>\n",
       "    </tr>\n",
       "  </thead>\n",
       "  <tbody>\n",
       "    <tr>\n",
       "      <th>count</th>\n",
       "      <td>550.000000</td>\n",
       "      <td>550.000000</td>\n",
       "      <td>5.500000e+02</td>\n",
       "      <td>550.0</td>\n",
       "    </tr>\n",
       "    <tr>\n",
       "      <th>mean</th>\n",
       "      <td>-45.584545</td>\n",
       "      <td>3.091189</td>\n",
       "      <td>9.204000e+02</td>\n",
       "      <td>7.0</td>\n",
       "    </tr>\n",
       "    <tr>\n",
       "      <th>std</th>\n",
       "      <td>4.863776</td>\n",
       "      <td>1.794641</td>\n",
       "      <td>2.275807e-13</td>\n",
       "      <td>0.0</td>\n",
       "    </tr>\n",
       "    <tr>\n",
       "      <th>min</th>\n",
       "      <td>-56.000000</td>\n",
       "      <td>0.110447</td>\n",
       "      <td>9.204000e+02</td>\n",
       "      <td>7.0</td>\n",
       "    </tr>\n",
       "    <tr>\n",
       "      <th>25%</th>\n",
       "      <td>-50.500000</td>\n",
       "      <td>1.583068</td>\n",
       "      <td>9.204000e+02</td>\n",
       "      <td>7.0</td>\n",
       "    </tr>\n",
       "    <tr>\n",
       "      <th>50%</th>\n",
       "      <td>-45.500000</td>\n",
       "      <td>2.896156</td>\n",
       "      <td>9.204000e+02</td>\n",
       "      <td>7.0</td>\n",
       "    </tr>\n",
       "    <tr>\n",
       "      <th>75%</th>\n",
       "      <td>-41.500000</td>\n",
       "      <td>4.810564</td>\n",
       "      <td>9.204000e+02</td>\n",
       "      <td>7.0</td>\n",
       "    </tr>\n",
       "    <tr>\n",
       "      <th>max</th>\n",
       "      <td>-38.000000</td>\n",
       "      <td>6.277049</td>\n",
       "      <td>9.204000e+02</td>\n",
       "      <td>7.0</td>\n",
       "    </tr>\n",
       "  </tbody>\n",
       "</table>\n",
       "</div>"
      ],
      "text/plain": [
       "             RSSI       Phase     Frequency  Antenna No\n",
       "count  550.000000  550.000000  5.500000e+02       550.0\n",
       "mean   -45.584545    3.091189  9.204000e+02         7.0\n",
       "std      4.863776    1.794641  2.275807e-13         0.0\n",
       "min    -56.000000    0.110447  9.204000e+02         7.0\n",
       "25%    -50.500000    1.583068  9.204000e+02         7.0\n",
       "50%    -45.500000    2.896156  9.204000e+02         7.0\n",
       "75%    -41.500000    4.810564  9.204000e+02         7.0\n",
       "max    -38.000000    6.277049  9.204000e+02         7.0"
      ]
     },
     "execution_count": 72,
     "metadata": {},
     "output_type": "execute_result"
    }
   ],
   "source": [
    "rfiddf.describe()"
   ]
  },
  {
   "cell_type": "code",
   "execution_count": 73,
   "metadata": {},
   "outputs": [
    {
     "data": {
      "text/plain": [
       "Tag ID        E200 420D 49E0 6014 04E6 318A\n",
       "RSSI                                  -43.0\n",
       "Phase                              3.368622\n",
       "Frequency                             920.4\n",
       "Antenna No                                7\n",
       "Created At              2022/09/20 13:32:30\n",
       "Name: 1, dtype: object"
      ]
     },
     "execution_count": 73,
     "metadata": {},
     "output_type": "execute_result"
    }
   ],
   "source": [
    "rfiddf.loc[1]"
   ]
  },
  {
   "cell_type": "markdown",
   "metadata": {},
   "source": [
    "3. 実際の距離に対する、RSSIと位相のDataFrameの作成"
   ]
  },
  {
   "cell_type": "code",
   "execution_count": 90,
   "metadata": {},
   "outputs": [
    {
     "ename": "TypeError",
     "evalue": "'float' object cannot be interpreted as an integer",
     "output_type": "error",
     "traceback": [
      "\u001b[0;31m---------------------------------------------------------------------------\u001b[0m",
      "\u001b[0;31mTypeError\u001b[0m                                 Traceback (most recent call last)",
      "\u001b[1;32m/Users/guchiwo/Docs/RFID/experiment/experiment1.ipynb Cell 13'\u001b[0m in \u001b[0;36m<cell line: 3>\u001b[0;34m()\u001b[0m\n\u001b[1;32m      <a href='vscode-notebook-cell:/Users/guchiwo/Docs/RFID/experiment/experiment1.ipynb#ch0000010?line=0'>1</a>\u001b[0m columns \u001b[39m=\u001b[39m [\u001b[39m'\u001b[39m\u001b[39mDistance\u001b[39m\u001b[39m'\u001b[39m, \u001b[39m'\u001b[39m\u001b[39mRSSI\u001b[39m\u001b[39m'\u001b[39m, \u001b[39m'\u001b[39m\u001b[39mPhase\u001b[39m\u001b[39m'\u001b[39m]\n\u001b[1;32m      <a href='vscode-notebook-cell:/Users/guchiwo/Docs/RFID/experiment/experiment1.ipynb#ch0000010?line=1'>2</a>\u001b[0m data \u001b[39m=\u001b[39m np\u001b[39m.\u001b[39mempty((\u001b[39m0\u001b[39m,\u001b[39m3\u001b[39m))\n\u001b[0;32m----> <a href='vscode-notebook-cell:/Users/guchiwo/Docs/RFID/experiment/experiment1.ipynb#ch0000010?line=2'>3</a>\u001b[0m \u001b[39mfor\u001b[39;00m i \u001b[39min\u001b[39;00m \u001b[39mrange\u001b[39;49m(\u001b[39m1\u001b[39;49m, data_size\u001b[39m/\u001b[39;49m\u001b[39m11\u001b[39;49m):\n\u001b[1;32m      <a href='vscode-notebook-cell:/Users/guchiwo/Docs/RFID/experiment/experiment1.ipynb#ch0000010?line=3'>4</a>\u001b[0m     data \u001b[39m=\u001b[39m np\u001b[39m.\u001b[39mappend(\n\u001b[1;32m      <a href='vscode-notebook-cell:/Users/guchiwo/Docs/RFID/experiment/experiment1.ipynb#ch0000010?line=4'>5</a>\u001b[0m         data,\n\u001b[1;32m      <a href='vscode-notebook-cell:/Users/guchiwo/Docs/RFID/experiment/experiment1.ipynb#ch0000010?line=5'>6</a>\u001b[0m         [[i, rfiddf[\u001b[39m'\u001b[39m\u001b[39mRSSI\u001b[39m\u001b[39m'\u001b[39m][(i\u001b[39m-\u001b[39m\u001b[39m1\u001b[39m)\u001b[39m*\u001b[39m\u001b[39m11\u001b[39m:i\u001b[39m*\u001b[39m\u001b[39m11\u001b[39m]\u001b[39m.\u001b[39mmean(), rfiddf[\u001b[39m'\u001b[39m\u001b[39mPhase\u001b[39m\u001b[39m'\u001b[39m][(i\u001b[39m-\u001b[39m\u001b[39m1\u001b[39m)\u001b[39m*\u001b[39m\u001b[39m11\u001b[39m:i\u001b[39m*\u001b[39m\u001b[39m11\u001b[39m]\u001b[39m.\u001b[39mmean()]],\n\u001b[1;32m      <a href='vscode-notebook-cell:/Users/guchiwo/Docs/RFID/experiment/experiment1.ipynb#ch0000010?line=6'>7</a>\u001b[0m         axis\u001b[39m=\u001b[39m\u001b[39m0\u001b[39m\n\u001b[1;32m      <a href='vscode-notebook-cell:/Users/guchiwo/Docs/RFID/experiment/experiment1.ipynb#ch0000010?line=7'>8</a>\u001b[0m     )\n\u001b[1;32m      <a href='vscode-notebook-cell:/Users/guchiwo/Docs/RFID/experiment/experiment1.ipynb#ch0000010?line=8'>9</a>\u001b[0m     i \u001b[39m+\u001b[39m\u001b[39m=\u001b[39m \u001b[39m1\u001b[39m\n",
      "\u001b[0;31mTypeError\u001b[0m: 'float' object cannot be interpreted as an integer"
     ]
    }
   ],
   "source": [
    "columns = ['Distance', 'RSSI', 'Phase']\n",
    "data = np.empty((0,3))\n",
    "for i in range(1, data_size):\n",
    "    data = np.append(\n",
    "        data,\n",
    "        [[i, rfiddf['RSSI'][(i-1)*11:i*11].mean(), rfiddf['Phase'][(i-1)*11:i*11].mean()]],\n",
    "        axis=0\n",
    "    )\n",
    "    i += 1\n",
    "rfiddf_mean = pd.DataFrame(\n",
    "    columns=columns,\n",
    "    data=data\n",
    ")\n",
    "rfiddf_mean.head(10)"
   ]
  },
  {
   "cell_type": "markdown",
   "metadata": {},
   "source": [
    "4. データの整形\n",
    "* 読み取りたいタグを指定。\n",
    "* \"Created At\"はString型なので、datetime型に変更。\n",
    "* 'Tag ID'と'date'のマルチインデックスを出力。"
   ]
  },
  {
   "cell_type": "code",
   "execution_count": null,
   "metadata": {},
   "outputs": [
    {
     "data": {
      "text/html": [
       "<div>\n",
       "<style scoped>\n",
       "    .dataframe tbody tr th:only-of-type {\n",
       "        vertical-align: middle;\n",
       "    }\n",
       "\n",
       "    .dataframe tbody tr th {\n",
       "        vertical-align: top;\n",
       "    }\n",
       "\n",
       "    .dataframe thead th {\n",
       "        text-align: right;\n",
       "    }\n",
       "</style>\n",
       "<table border=\"1\" class=\"dataframe\">\n",
       "  <thead>\n",
       "    <tr style=\"text-align: right;\">\n",
       "      <th></th>\n",
       "      <th>Tag ID</th>\n",
       "      <th>RSSI</th>\n",
       "      <th>Phase</th>\n",
       "      <th>Frequency</th>\n",
       "      <th>Antenna No</th>\n",
       "      <th>Created At</th>\n",
       "      <th>date</th>\n",
       "    </tr>\n",
       "  </thead>\n",
       "  <tbody>\n",
       "    <tr>\n",
       "      <th>0</th>\n",
       "      <td>E200 420D 49E0 6014 04E6 318A</td>\n",
       "      <td>-43.0</td>\n",
       "      <td>3.356350</td>\n",
       "      <td>920.4</td>\n",
       "      <td>7</td>\n",
       "      <td>2022/09/20 13:32:28</td>\n",
       "      <td>2022-09-20 13:32:28</td>\n",
       "    </tr>\n",
       "    <tr>\n",
       "      <th>1</th>\n",
       "      <td>E200 420D 49E0 6014 04E6 318A</td>\n",
       "      <td>-43.0</td>\n",
       "      <td>3.368622</td>\n",
       "      <td>920.4</td>\n",
       "      <td>7</td>\n",
       "      <td>2022/09/20 13:32:30</td>\n",
       "      <td>2022-09-20 13:32:30</td>\n",
       "    </tr>\n",
       "    <tr>\n",
       "      <th>2</th>\n",
       "      <td>E200 420D 49E0 6014 04E6 318A</td>\n",
       "      <td>-43.0</td>\n",
       "      <td>3.350214</td>\n",
       "      <td>920.4</td>\n",
       "      <td>7</td>\n",
       "      <td>2022/09/20 13:32:32</td>\n",
       "      <td>2022-09-20 13:32:32</td>\n",
       "    </tr>\n",
       "    <tr>\n",
       "      <th>3</th>\n",
       "      <td>E200 420D 49E0 6014 04E6 318A</td>\n",
       "      <td>-43.0</td>\n",
       "      <td>3.350214</td>\n",
       "      <td>920.4</td>\n",
       "      <td>7</td>\n",
       "      <td>2022/09/20 13:32:34</td>\n",
       "      <td>2022-09-20 13:32:34</td>\n",
       "    </tr>\n",
       "    <tr>\n",
       "      <th>4</th>\n",
       "      <td>E200 420D 49E0 6014 04E6 318A</td>\n",
       "      <td>-43.0</td>\n",
       "      <td>3.356350</td>\n",
       "      <td>920.4</td>\n",
       "      <td>7</td>\n",
       "      <td>2022/09/20 13:32:36</td>\n",
       "      <td>2022-09-20 13:32:36</td>\n",
       "    </tr>\n",
       "    <tr>\n",
       "      <th>5</th>\n",
       "      <td>E200 420D 49E0 6014 04E6 318A</td>\n",
       "      <td>-43.0</td>\n",
       "      <td>3.344078</td>\n",
       "      <td>920.4</td>\n",
       "      <td>7</td>\n",
       "      <td>2022/09/20 13:32:38</td>\n",
       "      <td>2022-09-20 13:32:38</td>\n",
       "    </tr>\n",
       "    <tr>\n",
       "      <th>6</th>\n",
       "      <td>E200 420D 49E0 6014 04E6 318A</td>\n",
       "      <td>-43.0</td>\n",
       "      <td>3.344078</td>\n",
       "      <td>920.4</td>\n",
       "      <td>7</td>\n",
       "      <td>2022/09/20 13:32:40</td>\n",
       "      <td>2022-09-20 13:32:40</td>\n",
       "    </tr>\n",
       "    <tr>\n",
       "      <th>7</th>\n",
       "      <td>E200 420D 49E0 6014 04E6 318A</td>\n",
       "      <td>-43.0</td>\n",
       "      <td>3.325670</td>\n",
       "      <td>920.4</td>\n",
       "      <td>7</td>\n",
       "      <td>2022/09/20 13:32:42</td>\n",
       "      <td>2022-09-20 13:32:42</td>\n",
       "    </tr>\n",
       "    <tr>\n",
       "      <th>8</th>\n",
       "      <td>E200 420D 49E0 6014 04E6 318A</td>\n",
       "      <td>-43.0</td>\n",
       "      <td>3.350214</td>\n",
       "      <td>920.4</td>\n",
       "      <td>7</td>\n",
       "      <td>2022/09/20 13:32:44</td>\n",
       "      <td>2022-09-20 13:32:44</td>\n",
       "    </tr>\n",
       "    <tr>\n",
       "      <th>9</th>\n",
       "      <td>E200 420D 49E0 6014 04E6 318A</td>\n",
       "      <td>-43.0</td>\n",
       "      <td>3.337942</td>\n",
       "      <td>920.4</td>\n",
       "      <td>7</td>\n",
       "      <td>2022/09/20 13:32:46</td>\n",
       "      <td>2022-09-20 13:32:46</td>\n",
       "    </tr>\n",
       "  </tbody>\n",
       "</table>\n",
       "</div>"
      ],
      "text/plain": [
       "                          Tag ID  RSSI     Phase  Frequency  Antenna No  \\\n",
       "0  E200 420D 49E0 6014 04E6 318A -43.0  3.356350      920.4           7   \n",
       "1  E200 420D 49E0 6014 04E6 318A -43.0  3.368622      920.4           7   \n",
       "2  E200 420D 49E0 6014 04E6 318A -43.0  3.350214      920.4           7   \n",
       "3  E200 420D 49E0 6014 04E6 318A -43.0  3.350214      920.4           7   \n",
       "4  E200 420D 49E0 6014 04E6 318A -43.0  3.356350      920.4           7   \n",
       "5  E200 420D 49E0 6014 04E6 318A -43.0  3.344078      920.4           7   \n",
       "6  E200 420D 49E0 6014 04E6 318A -43.0  3.344078      920.4           7   \n",
       "7  E200 420D 49E0 6014 04E6 318A -43.0  3.325670      920.4           7   \n",
       "8  E200 420D 49E0 6014 04E6 318A -43.0  3.350214      920.4           7   \n",
       "9  E200 420D 49E0 6014 04E6 318A -43.0  3.337942      920.4           7   \n",
       "\n",
       "             Created At                date  \n",
       "0   2022/09/20 13:32:28 2022-09-20 13:32:28  \n",
       "1   2022/09/20 13:32:30 2022-09-20 13:32:30  \n",
       "2   2022/09/20 13:32:32 2022-09-20 13:32:32  \n",
       "3   2022/09/20 13:32:34 2022-09-20 13:32:34  \n",
       "4   2022/09/20 13:32:36 2022-09-20 13:32:36  \n",
       "5   2022/09/20 13:32:38 2022-09-20 13:32:38  \n",
       "6   2022/09/20 13:32:40 2022-09-20 13:32:40  \n",
       "7   2022/09/20 13:32:42 2022-09-20 13:32:42  \n",
       "8   2022/09/20 13:32:44 2022-09-20 13:32:44  \n",
       "9   2022/09/20 13:32:46 2022-09-20 13:32:46  "
      ]
     },
     "execution_count": 42,
     "metadata": {},
     "output_type": "execute_result"
    }
   ],
   "source": [
    "rfiddf=rfiddf[rfiddf['Tag ID'] == TagTable['Tag1']]\n",
    "rfiddf['date']=pd.to_datetime(rfiddf['Created At'])\n",
    "rfiddf.set_index(['Tag ID','date']) # we get multi-index dataframe\n",
    "rfiddf.head(10)"
   ]
  },
  {
   "cell_type": "markdown",
   "metadata": {},
   "source": [
    "5. 取得したデータのピボットテーブルを取得する。行は'date'、列は'Tag ID'。"
   ]
  },
  {
   "cell_type": "code",
   "execution_count": null,
   "metadata": {},
   "outputs": [
    {
     "data": {
      "text/html": [
       "<div>\n",
       "<style scoped>\n",
       "    .dataframe tbody tr th:only-of-type {\n",
       "        vertical-align: middle;\n",
       "    }\n",
       "\n",
       "    .dataframe tbody tr th {\n",
       "        vertical-align: top;\n",
       "    }\n",
       "\n",
       "    .dataframe thead tr th {\n",
       "        text-align: left;\n",
       "    }\n",
       "\n",
       "    .dataframe thead tr:last-of-type th {\n",
       "        text-align: right;\n",
       "    }\n",
       "</style>\n",
       "<table border=\"1\" class=\"dataframe\">\n",
       "  <thead>\n",
       "    <tr>\n",
       "      <th></th>\n",
       "      <th>Phase</th>\n",
       "      <th>RSSI</th>\n",
       "    </tr>\n",
       "    <tr>\n",
       "      <th>Tag ID</th>\n",
       "      <th>E200 420D 49E0 6014 04E6 318A</th>\n",
       "      <th>E200 420D 49E0 6014 04E6 318A</th>\n",
       "    </tr>\n",
       "    <tr>\n",
       "      <th>Antenna No</th>\n",
       "      <th>7</th>\n",
       "      <th>7</th>\n",
       "    </tr>\n",
       "    <tr>\n",
       "      <th>date</th>\n",
       "      <th></th>\n",
       "      <th></th>\n",
       "    </tr>\n",
       "  </thead>\n",
       "  <tbody>\n",
       "    <tr>\n",
       "      <th>2022-09-20 13:32:28</th>\n",
       "      <td>3.356350</td>\n",
       "      <td>-43.0</td>\n",
       "    </tr>\n",
       "    <tr>\n",
       "      <th>2022-09-20 13:32:30</th>\n",
       "      <td>3.368622</td>\n",
       "      <td>-43.0</td>\n",
       "    </tr>\n",
       "    <tr>\n",
       "      <th>2022-09-20 13:32:32</th>\n",
       "      <td>3.350214</td>\n",
       "      <td>-43.0</td>\n",
       "    </tr>\n",
       "    <tr>\n",
       "      <th>2022-09-20 13:32:34</th>\n",
       "      <td>3.350214</td>\n",
       "      <td>-43.0</td>\n",
       "    </tr>\n",
       "    <tr>\n",
       "      <th>2022-09-20 13:32:36</th>\n",
       "      <td>3.356350</td>\n",
       "      <td>-43.0</td>\n",
       "    </tr>\n",
       "  </tbody>\n",
       "</table>\n",
       "</div>"
      ],
      "text/plain": [
       "                                            Phase  \\\n",
       "Tag ID              E200 420D 49E0 6014 04E6 318A   \n",
       "Antenna No                                      7   \n",
       "date                                                \n",
       "2022-09-20 13:32:28                      3.356350   \n",
       "2022-09-20 13:32:30                      3.368622   \n",
       "2022-09-20 13:32:32                      3.350214   \n",
       "2022-09-20 13:32:34                      3.350214   \n",
       "2022-09-20 13:32:36                      3.356350   \n",
       "\n",
       "                                             RSSI  \n",
       "Tag ID              E200 420D 49E0 6014 04E6 318A  \n",
       "Antenna No                                      7  \n",
       "date                                               \n",
       "2022-09-20 13:32:28                         -43.0  \n",
       "2022-09-20 13:32:30                         -43.0  \n",
       "2022-09-20 13:32:32                         -43.0  \n",
       "2022-09-20 13:32:34                         -43.0  \n",
       "2022-09-20 13:32:36                         -43.0  "
      ]
     },
     "execution_count": 43,
     "metadata": {},
     "output_type": "execute_result"
    }
   ],
   "source": [
    "TA_Rssi_TS=rfiddf.pivot_table(index='date', columns=['Tag ID','Antenna No'], values=['RSSI', 'Phase'])\n",
    "TA_Rssi_TS.head()"
   ]
  },
  {
   "cell_type": "markdown",
   "metadata": {},
   "source": [
    "6. 列から行へピボット"
   ]
  },
  {
   "cell_type": "code",
   "execution_count": null,
   "metadata": {},
   "outputs": [
    {
     "data": {
      "text/html": [
       "<div>\n",
       "<style scoped>\n",
       "    .dataframe tbody tr th:only-of-type {\n",
       "        vertical-align: middle;\n",
       "    }\n",
       "\n",
       "    .dataframe tbody tr th {\n",
       "        vertical-align: top;\n",
       "    }\n",
       "\n",
       "    .dataframe thead tr th {\n",
       "        text-align: left;\n",
       "    }\n",
       "\n",
       "    .dataframe thead tr:last-of-type th {\n",
       "        text-align: right;\n",
       "    }\n",
       "</style>\n",
       "<table border=\"1\" class=\"dataframe\">\n",
       "  <thead>\n",
       "    <tr>\n",
       "      <th></th>\n",
       "      <th>Tag ID</th>\n",
       "      <th>E200 420D 49E0 6014 04E6 318A</th>\n",
       "    </tr>\n",
       "    <tr>\n",
       "      <th></th>\n",
       "      <th>Antenna No</th>\n",
       "      <th>7</th>\n",
       "    </tr>\n",
       "    <tr>\n",
       "      <th>date</th>\n",
       "      <th></th>\n",
       "      <th></th>\n",
       "    </tr>\n",
       "  </thead>\n",
       "  <tbody>\n",
       "    <tr>\n",
       "      <th rowspan=\"2\" valign=\"top\">2022-09-20 13:32:28</th>\n",
       "      <th>Phase</th>\n",
       "      <td>3.356350</td>\n",
       "    </tr>\n",
       "    <tr>\n",
       "      <th>RSSI</th>\n",
       "      <td>-43.000000</td>\n",
       "    </tr>\n",
       "    <tr>\n",
       "      <th rowspan=\"2\" valign=\"top\">2022-09-20 13:32:30</th>\n",
       "      <th>Phase</th>\n",
       "      <td>3.368622</td>\n",
       "    </tr>\n",
       "    <tr>\n",
       "      <th>RSSI</th>\n",
       "      <td>-43.000000</td>\n",
       "    </tr>\n",
       "    <tr>\n",
       "      <th>2022-09-20 13:32:32</th>\n",
       "      <th>Phase</th>\n",
       "      <td>3.350214</td>\n",
       "    </tr>\n",
       "  </tbody>\n",
       "</table>\n",
       "</div>"
      ],
      "text/plain": [
       "Tag ID                    E200 420D 49E0 6014 04E6 318A\n",
       "Antenna No                                            7\n",
       "date                                                   \n",
       "2022-09-20 13:32:28 Phase                      3.356350\n",
       "                    RSSI                     -43.000000\n",
       "2022-09-20 13:32:30 Phase                      3.368622\n",
       "                    RSSI                     -43.000000\n",
       "2022-09-20 13:32:32 Phase                      3.350214"
      ]
     },
     "execution_count": 44,
     "metadata": {},
     "output_type": "execute_result"
    }
   ],
   "source": [
    "A_Rssi_ATS=TA_Rssi_TS.stack(level=0)\n",
    "A_Rssi_ATS.head()"
   ]
  },
  {
   "cell_type": "code",
   "execution_count": null,
   "metadata": {},
   "outputs": [
    {
     "data": {
      "text/html": [
       "<div>\n",
       "<style scoped>\n",
       "    .dataframe tbody tr th:only-of-type {\n",
       "        vertical-align: middle;\n",
       "    }\n",
       "\n",
       "    .dataframe tbody tr th {\n",
       "        vertical-align: top;\n",
       "    }\n",
       "\n",
       "    .dataframe thead tr th {\n",
       "        text-align: left;\n",
       "    }\n",
       "\n",
       "    .dataframe thead tr:last-of-type th {\n",
       "        text-align: right;\n",
       "    }\n",
       "</style>\n",
       "<table border=\"1\" class=\"dataframe\">\n",
       "  <thead>\n",
       "    <tr>\n",
       "      <th>Tag ID</th>\n",
       "      <th colspan=\"2\" halign=\"left\">E200 420D 49E0 6014 04E6 318A</th>\n",
       "    </tr>\n",
       "    <tr>\n",
       "      <th>Antenna No</th>\n",
       "      <th colspan=\"2\" halign=\"left\">7</th>\n",
       "    </tr>\n",
       "    <tr>\n",
       "      <th></th>\n",
       "      <th>Phase</th>\n",
       "      <th>RSSI</th>\n",
       "    </tr>\n",
       "    <tr>\n",
       "      <th>date</th>\n",
       "      <th></th>\n",
       "      <th></th>\n",
       "    </tr>\n",
       "  </thead>\n",
       "  <tbody>\n",
       "    <tr>\n",
       "      <th>2022-09-20 13:32:28</th>\n",
       "      <td>3.356350</td>\n",
       "      <td>-43.0</td>\n",
       "    </tr>\n",
       "    <tr>\n",
       "      <th>2022-09-20 13:32:30</th>\n",
       "      <td>3.368622</td>\n",
       "      <td>-43.0</td>\n",
       "    </tr>\n",
       "    <tr>\n",
       "      <th>2022-09-20 13:32:32</th>\n",
       "      <td>3.350214</td>\n",
       "      <td>-43.0</td>\n",
       "    </tr>\n",
       "    <tr>\n",
       "      <th>2022-09-20 13:32:34</th>\n",
       "      <td>3.350214</td>\n",
       "      <td>-43.0</td>\n",
       "    </tr>\n",
       "    <tr>\n",
       "      <th>2022-09-20 13:32:36</th>\n",
       "      <td>3.356350</td>\n",
       "      <td>-43.0</td>\n",
       "    </tr>\n",
       "  </tbody>\n",
       "</table>\n",
       "</div>"
      ],
      "text/plain": [
       "Tag ID              E200 420D 49E0 6014 04E6 318A      \n",
       "Antenna No                                      7      \n",
       "                                            Phase  RSSI\n",
       "date                                                   \n",
       "2022-09-20 13:32:28                      3.356350 -43.0\n",
       "2022-09-20 13:32:30                      3.368622 -43.0\n",
       "2022-09-20 13:32:32                      3.350214 -43.0\n",
       "2022-09-20 13:32:34                      3.350214 -43.0\n",
       "2022-09-20 13:32:36                      3.356350 -43.0"
      ]
     },
     "execution_count": 45,
     "metadata": {},
     "output_type": "execute_result"
    }
   ],
   "source": [
    "TA_Rssi_TS0 = A_Rssi_ATS.unstack()\n",
    "TA_Rssi_TS0.head()"
   ]
  },
  {
   "cell_type": "code",
   "execution_count": null,
   "metadata": {},
   "outputs": [
    {
     "data": {
      "text/plain": [
       "DatetimeIndex(['2022-09-20 13:32:28', '2022-09-20 13:32:30',\n",
       "               '2022-09-20 13:32:32', '2022-09-20 13:32:34',\n",
       "               '2022-09-20 13:32:36', '2022-09-20 13:32:38',\n",
       "               '2022-09-20 13:32:40', '2022-09-20 13:32:42',\n",
       "               '2022-09-20 13:32:44', '2022-09-20 13:32:46',\n",
       "               ...\n",
       "               '2022-09-20 15:41:45', '2022-09-20 15:41:47',\n",
       "               '2022-09-20 15:41:49', '2022-09-20 15:41:51',\n",
       "               '2022-09-20 15:41:53', '2022-09-20 15:41:55',\n",
       "               '2022-09-20 15:41:57', '2022-09-20 15:41:59',\n",
       "               '2022-09-20 15:42:01', '2022-09-20 15:42:03'],\n",
       "              dtype='datetime64[ns]', name='date', length=550, freq=None)"
      ]
     },
     "execution_count": 46,
     "metadata": {},
     "output_type": "execute_result"
    }
   ],
   "source": [
    "TA_Rssi_TS0.index # check that the dataframe is TimeSeries"
   ]
  },
  {
   "cell_type": "markdown",
   "metadata": {},
   "source": [
    "7. 時間でソート"
   ]
  },
  {
   "cell_type": "code",
   "execution_count": null,
   "metadata": {},
   "outputs": [
    {
     "data": {
      "text/html": [
       "<div>\n",
       "<style scoped>\n",
       "    .dataframe tbody tr th:only-of-type {\n",
       "        vertical-align: middle;\n",
       "    }\n",
       "\n",
       "    .dataframe tbody tr th {\n",
       "        vertical-align: top;\n",
       "    }\n",
       "\n",
       "    .dataframe thead tr th {\n",
       "        text-align: left;\n",
       "    }\n",
       "\n",
       "    .dataframe thead tr:last-of-type th {\n",
       "        text-align: right;\n",
       "    }\n",
       "</style>\n",
       "<table border=\"1\" class=\"dataframe\">\n",
       "  <thead>\n",
       "    <tr>\n",
       "      <th>Tag ID</th>\n",
       "      <th colspan=\"2\" halign=\"left\">E200 420D 49E0 6014 04E6 318A</th>\n",
       "    </tr>\n",
       "    <tr>\n",
       "      <th>Antenna No</th>\n",
       "      <th colspan=\"2\" halign=\"left\">7</th>\n",
       "    </tr>\n",
       "    <tr>\n",
       "      <th></th>\n",
       "      <th>Phase</th>\n",
       "      <th>RSSI</th>\n",
       "    </tr>\n",
       "    <tr>\n",
       "      <th>date</th>\n",
       "      <th></th>\n",
       "      <th></th>\n",
       "    </tr>\n",
       "  </thead>\n",
       "  <tbody>\n",
       "    <tr>\n",
       "      <th>2022-09-20 13:32:28</th>\n",
       "      <td>3.356350</td>\n",
       "      <td>-43.0</td>\n",
       "    </tr>\n",
       "    <tr>\n",
       "      <th>2022-09-20 13:32:30</th>\n",
       "      <td>3.368622</td>\n",
       "      <td>-43.0</td>\n",
       "    </tr>\n",
       "    <tr>\n",
       "      <th>2022-09-20 13:32:32</th>\n",
       "      <td>3.350214</td>\n",
       "      <td>-43.0</td>\n",
       "    </tr>\n",
       "    <tr>\n",
       "      <th>2022-09-20 13:32:34</th>\n",
       "      <td>3.350214</td>\n",
       "      <td>-43.0</td>\n",
       "    </tr>\n",
       "    <tr>\n",
       "      <th>2022-09-20 13:32:36</th>\n",
       "      <td>3.356350</td>\n",
       "      <td>-43.0</td>\n",
       "    </tr>\n",
       "  </tbody>\n",
       "</table>\n",
       "</div>"
      ],
      "text/plain": [
       "Tag ID              E200 420D 49E0 6014 04E6 318A      \n",
       "Antenna No                                      7      \n",
       "                                            Phase  RSSI\n",
       "date                                                   \n",
       "2022-09-20 13:32:28                      3.356350 -43.0\n",
       "2022-09-20 13:32:30                      3.368622 -43.0\n",
       "2022-09-20 13:32:32                      3.350214 -43.0\n",
       "2022-09-20 13:32:34                      3.350214 -43.0\n",
       "2022-09-20 13:32:36                      3.356350 -43.0"
      ]
     },
     "execution_count": 47,
     "metadata": {},
     "output_type": "execute_result"
    }
   ],
   "source": [
    "TA_Rssi_TS0=TA_Rssi_TS0.sort_index()\n",
    "TA_Rssi_TS0.head()"
   ]
  },
  {
   "cell_type": "code",
   "execution_count": null,
   "metadata": {},
   "outputs": [
    {
     "data": {
      "text/plain": [
       "DatetimeIndex(['2022-09-20 13:32:28', '2022-09-20 13:32:30',\n",
       "               '2022-09-20 13:32:32', '2022-09-20 13:32:34',\n",
       "               '2022-09-20 13:32:36', '2022-09-20 13:32:38',\n",
       "               '2022-09-20 13:32:40', '2022-09-20 13:32:42',\n",
       "               '2022-09-20 13:32:44', '2022-09-20 13:32:46',\n",
       "               ...\n",
       "               '2022-09-20 15:41:45', '2022-09-20 15:41:47',\n",
       "               '2022-09-20 15:41:49', '2022-09-20 15:41:51',\n",
       "               '2022-09-20 15:41:53', '2022-09-20 15:41:55',\n",
       "               '2022-09-20 15:41:57', '2022-09-20 15:41:59',\n",
       "               '2022-09-20 15:42:01', '2022-09-20 15:42:03'],\n",
       "              dtype='datetime64[ns]', name='date', length=550, freq=None)"
      ]
     },
     "execution_count": 48,
     "metadata": {},
     "output_type": "execute_result"
    }
   ],
   "source": [
    "TA_Rssi_TS0.index # check that the dataframe is TimeSeries"
   ]
  },
  {
   "cell_type": "markdown",
   "metadata": {},
   "source": [
    "8. 時間に対するRSSIと位相をそれぞれプロット\n",
    "* 赤がRSSI、青が位相"
   ]
  },
  {
   "cell_type": "code",
   "execution_count": null,
   "metadata": {},
   "outputs": [
    {
     "data": {
      "text/plain": [
       "[<matplotlib.lines.Line2D at 0x1536f51c0>]"
      ]
     },
     "execution_count": 49,
     "metadata": {},
     "output_type": "execute_result"
    },
    {
     "data": {
      "image/png": "[encoded data removed]",
      "text/plain": [
       "<Figure size 720x288 with 2 Axes>"
      ]
     },
     "metadata": {
      "needs_background": "light"
     },
     "output_type": "display_data"
    }
   ],
   "source": [
    "fig = plt.figure(figsize=(10,4))\n",
    "ax1 = fig.add_subplot()\n",
    "ax2 = ax1.twinx()\n",
    "ax1.set_ylim(-60,-30)\n",
    "ax2.set_ylim(0,6.28)\n",
    "ax1.plot(TA_Rssi_TS0[TagTable['Tag1'],'7']['RSSI'], color='red', label=\"RSSI\", marker=\"o\")\n",
    "ax2.plot(TA_Rssi_TS0[TagTable['Tag1'],'7']['Phase'], color='blue', label=\"Phase\", marker='o')"
   ]
  },
  {
   "cell_type": "markdown",
   "metadata": {},
   "source": [
    "9. アンテナからの実際の距離に対する、RSSIと位相をそれぞれプロット\n",
    "* 赤がRSSI、青が位相"
   ]
  },
  {
   "cell_type": "code",
   "execution_count": null,
   "metadata": {},
   "outputs": [
    {
     "data": {
      "image/png": "[encoded data removed]",
      "text/plain": [
       "<Figure size 720x504 with 2 Axes>"
      ]
     },
     "metadata": {
      "needs_background": "light"
     },
     "output_type": "display_data"
    }
   ],
   "source": [
    "fig = plt.figure(figsize=(10,7))\n",
    "ax1 = fig.add_subplot()\n",
    "ax2 = ax1.twinx()\n",
    "ax1.set_xlabel('Distance[cm]')\n",
    "ax1.set_ylim(-62,-33)\n",
    "ax1.set_ylabel('RSSI[dbm]')\n",
    "ax2.set_ylim(-0.5,6.5)\n",
    "ax2.set_ylabel('Phase[rad]')\n",
    "ax1.plot(rfiddf_mean['Distance'], rfiddf_mean['RSSI'], label=\"RSSI\", color='red',  marker=\"o\")\n",
    "ax2.plot(rfiddf_mean['Distance'], rfiddf_mean['Phase'], label=\"Phase\", color='blue',  marker='o')\n",
    "plt.legend()\n",
    "plt.show()"
   ]
  },
  {
   "cell_type": "markdown",
   "metadata": {},
   "source": [
    "11. 単位RSSIを用いた、RSSIから距離への変換＋実際の距離に対する計測した距離をプロット"
   ]
  },
  {
   "cell_type": "code",
   "execution_count": null,
   "metadata": {},
   "outputs": [
    {
     "name": "stdout",
     "output_type": "stream",
     "text": [
      "best-fit parameters = [0.93639203 2.47793578]\n",
      "covariance = \n",
      "[[ 0.00274392 -0.06996998]\n",
      " [-0.06996998  2.35565615]]\n"
     ]
    },
    {
     "data": {
      "text/plain": [
       "<matplotlib.legend.Legend at 0x1506b13a0>"
      ]
     },
     "execution_count": 51,
     "metadata": {},
     "output_type": "execute_result"
    },
    {
     "data": {
      "image/png": "[encoded data removed]",
      "text/plain": [
       "<Figure size 720x504 with 1 Axes>"
      ]
     },
     "metadata": {
      "needs_background": "light"
     },
     "output_type": "display_data"
    }
   ],
   "source": [
    "distance_data = np.empty((0,2))\n",
    "columns = ['Real_Distance', 'Measured_Distance']\n",
    "for i in range(0, 50):\n",
    "    mean = rfiddf_mean['RSSI'][i]\n",
    "    distance_data = np.append(\n",
    "        distance_data,\n",
    "        [[i+1, pow(10, (RSSI0 - mean)/20) * 100]],\n",
    "        axis=0\n",
    "    )\n",
    "distance = pd.DataFrame(\n",
    "    data=distance_data,\n",
    "    columns=columns,\n",
    "    )\n",
    "\n",
    "def fit_func(x, a, b):\n",
    "    return a*x + b\n",
    "\n",
    "x=distance['Real_Distance']\n",
    "y=distance['Measured_Distance']\n",
    "\n",
    "popt, pcov = curve_fit(fit_func, x, y, p0=(1, 0))\n",
    "print(f\"best-fit parameters = {popt}\")\n",
    "print(f\"covariance = \\n{pcov}\")\n",
    "\n",
    "fig, p = plt.subplots(1, 1, sharex=True, figsize=(10,7))\n",
    "\n",
    "p.plot(x, y, \"o\", markersize=5, markerfacecolor=\"dodgerblue\", markeredgewidth=0.0, fillstyle=\"full\")\n",
    "p.plot(x, fit_func(np.array(x), *popt), alpha=0.5, color=\"crimson\", label='Measured Distance')\n",
    "p.plot(x, x, alpha=0.5, color=\"green\", label='Real Distance')\n",
    "p.set_xlabel('Real Distance[cm]')\n",
    "p.grid(linewidth=0.5)\n",
    "p.legend()"
   ]
  },
  {
   "cell_type": "markdown",
   "metadata": {},
   "source": [
    "12. 正解位相と計測した位相に関するデータフレームを作成"
   ]
  },
  {
   "cell_type": "code",
   "execution_count": null,
   "metadata": {},
   "outputs": [],
   "source": [
    "Measured_Sin = pd.DataFrame(\n",
    "    data={\n",
    "        'Distance' : list(range(1, 51)),\n",
    "        'phase' : rfiddf_mean['Phase'],\n",
    "        'sin(phase)' : np.sin(rfiddf_mean['Phase']),\n",
    "        'default_sin' : np.sin((4*np.pi*rfiddf_mean['Distance']/32.57)%(2*np.pi))\n",
    "        }\n",
    ")"
   ]
  },
  {
   "cell_type": "markdown",
   "metadata": {},
   "source": [
    "13. 計測した位相をsin(phase)で可視化"
   ]
  },
  {
   "cell_type": "code",
   "execution_count": null,
   "metadata": {},
   "outputs": [
    {
     "data": {
      "image/png": "[encoded data removed]",
      "text/plain": [
       "<Figure size 720x504 with 1 Axes>"
      ]
     },
     "metadata": {
      "needs_background": "light"
     },
     "output_type": "display_data"
    }
   ],
   "source": [
    "ax = Measured_Sin.plot(x='Distance', y='sin(phase)', figsize=(10,7))\n",
    "ax.plot(Measured_Sin['Distance'], Measured_Sin['default_sin'])\n",
    "plt.legend()\n",
    "plt.show()"
   ]
  },
  {
   "cell_type": "markdown",
   "metadata": {},
   "source": [
    "14. sin(phase)のカーブフィッティング"
   ]
  },
  {
   "cell_type": "code",
   "execution_count": null,
   "metadata": {},
   "outputs": [
    {
     "name": "stdout",
     "output_type": "stream",
     "text": [
      "best-fit parameters = [34.99133398  4.8624136 ]\n",
      "covariance = \n",
      "[[0.06822835 0.01800423]\n",
      " [0.01800423 0.0063541 ]]\n"
     ]
    },
    {
     "data": {
      "image/png": "[encoded data removed]",
      "text/plain": [
       "<Figure size 720x504 with 1 Axes>"
      ]
     },
     "metadata": {
      "needs_background": "light"
     },
     "output_type": "display_data"
    }
   ],
   "source": [
    "def fit_func(x, a, b):\n",
    "    return np.sin(((4 * np.pi * x) / a + b) % (2 * np.pi))\n",
    "\n",
    "x=Measured_Sin['Distance']\n",
    "y=Measured_Sin['sin(phase)']\n",
    "\n",
    "popt, pcov = curve_fit(fit_func, x, y, p0=(32.57, 0))\n",
    "popt[1]=(2*np.pi + popt[1]) % (2*np.pi)\n",
    "print(f\"best-fit parameters = {popt}\")\n",
    "print(f\"covariance = \\n{pcov}\")\n",
    "\n",
    "fig, p = plt.subplots(1, 1, sharex=True, figsize=(10,7))\n",
    "\n",
    "p.plot(x, y, \"o\", markersize=5, markerfacecolor=\"dodgerblue\", markeredgewidth=0.0, fillstyle=\"full\")\n",
    "p.plot(x, fit_func(np.array(x), *popt), alpha=0.5, color=\"crimson\")\n",
    "p.set_xlabel('Real Distance[cm]')\n",
    "p.grid(linewidth=0.5)"
   ]
  }
 ],
 "metadata": {
  "interpreter": {
   "hash": "f0447b1d6a34828d4d0619583015290e7fdd5674fb6ed1826a9eaf60c98b839f"
  },
  "kernelspec": {
   "display_name": "Python 3.9.8 64-bit ('3.9.8')",
   "language": "python",
   "name": "python3"
  },
  "language_info": {
   "codemirror_mode": {
    "name": "ipython",
    "version": 3
   },
   "file_extension": ".py",
   "mimetype": "text/x-python",
   "name": "python",
   "nbconvert_exporter": "python",
   "pygments_lexer": "ipython3",
   "version": "3.9.8 (main, Apr  8 2022, 16:57:59) \n[Clang 13.1.6 (clang-1316.0.21.2)]"
  },
  "orig_nbformat": 4
 },
 "nbformat": 4,
 "nbformat_minor": 2
}

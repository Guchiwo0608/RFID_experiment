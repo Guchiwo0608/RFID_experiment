{
 "cells": [
  {
   "cell_type": "code",
   "execution_count": 1,
   "metadata": {},
   "outputs": [],
   "source": [
    "import numpy as np\n",
    "import warnings\n",
    "from pyomo.environ import *\n",
    "from pyomo.opt import SolverFactory\n",
    "%matplotlib inline\n",
    "\n",
    "warnings.simplefilter('ignore')"
   ]
  },
  {
   "cell_type": "code",
   "execution_count": 2,
   "metadata": {},
   "outputs": [],
   "source": [
    "antenna_location = {\n",
    "    \"x\": 1,\n",
    "    \"y\": 1.5,\n",
    "}\n",
    "tag_population = 5\n",
    "tag_numbers = [i + 1 for i in range(tag_population)]\n",
    "tags_space = 0.05\n",
    "frequency = 920.4e6\n",
    "light_speed = 2.998e8\n",
    "wave_length = light_speed / frequency\n",
    "angular_velocity = 2 * np.pi * frequency\n",
    "sample_count = 1000"
   ]
  },
  {
   "cell_type": "markdown",
   "metadata": {},
   "source": [
    "# 混合整数非線形計画法\n"
   ]
  },
  {
   "cell_type": "markdown",
   "metadata": {},
   "source": [
    "## Sample Data 生成"
   ]
  },
  {
   "cell_type": "code",
   "execution_count": 3,
   "metadata": {},
   "outputs": [],
   "source": [
    "tags_location = [(m-1)*tags_space for m in tag_numbers]\n",
    "R = [(antenna_location[\"x\"]-tags_location[m-1])**2 + antenna_location[\"y\"]**2 for m in tag_numbers]\n",
    "phases = [(r * 4*np.pi / wave_length) % (2*np.pi) for r in R]"
   ]
  },
  {
   "cell_type": "code",
   "execution_count": 4,
   "metadata": {},
   "outputs": [],
   "source": [
    "def objective_rule1(model):\n",
    "    return sum(((model.x-(m-1)*tags_space)**2+model.y**2-wave_length/4/np.pi*(phases[m-1]+2*np.pi*model.n[m]))**2 for m in model.M)\n",
    "\n",
    "def n_initialize(model, i):\n",
    "    return 1\n",
    "\n",
    "def constraint_rule2(model, i):\n",
    "    model.n[i] >= 0\n",
    "\n",
    "def constraint_rule3(model, i):\n",
    "    return abs(wave_length/4/np.pi*(phases[i-1]+2*np.pi*model.n[i]-phases[0]-2*np.pi*model.n[1])) <= i*tags_space - 0.000001\n",
    "\n",
    "def constraint_rule4(model, i):\n",
    "    return wave_length/4/np.pi*(phases[i-1]+2*np.pi*model.n[i]+phases[0]+2*np.pi*model.n[1]) >= i*tags_space + 0.000001"
   ]
  },
  {
   "cell_type": "code",
   "execution_count": 5,
   "metadata": {},
   "outputs": [
    {
     "name": "stdout",
     "output_type": "stream",
     "text": [
      "x : Size=1, Index=None\n",
      "    Key  : Lower : Value : Upper : Fixed : Stale : Domain\n",
      "    None :  None :     1 :  None : False : False :  Reals\n",
      "y : Size=1, Index=None\n",
      "    Key  : Lower : Value : Upper : Fixed : Stale : Domain\n",
      "    None :     0 :     0 :  None : False : False :  Reals\n",
      "M : Size=1, Index=None, Ordered=Insertion\n",
      "    Key  : Dimen : Domain : Size : Members\n",
      "    None :     1 :    Any :    5 : {1, 2, 3, 4, 5}\n",
      "n : Size=5, Index=M\n",
      "    Key : Lower : Value : Upper : Fixed : Stale : Domain\n",
      "      1 :     0 :     1 :  None : False : False : Integers\n",
      "      2 :     0 :     1 :  None : False : False : Integers\n",
      "      3 :     0 :     1 :  None : False : False : Integers\n",
      "      4 :     0 :     1 :  None : False : False : Integers\n",
      "      5 :     0 :     1 :  None : False : False : Integers\n",
      "obj : Size=1, Index=None, Active=True\n",
      "    Key  : Active : Sense    : Expression\n",
      "    None :   True : minimize : (x**2 + y**2 - 0.025920606224983826*(6.002349139347011 + 6.283185307179586*n[1]))**2 + ((x - 0.05)**2 + y**2 - 0.025920606224983826*(2.240863040074224 + 6.283185307179586*n[2]))**2 + ((x - 0.1)**2 + y**2 - 0.025920606224983826*(4.955458971020676 + 6.283185307179586*n[3]))**2 + ((x - 0.15000000000000002)**2 + y**2 - 0.025920606224983826*(1.5797663178271648 + 6.283185307179586*n[4]))**2 + ((x - 0.2)**2 + y**2 - 0.025920606224983826*(4.68015569485285 + 6.283185307179586*n[5]))**2\n",
      "constraint3 : Size=5, Index=M, Active=True\n",
      "    Key : Lower : Body                                                                                                                 : Upper               : Active\n",
      "      1 :  -Inf :  abs(0.025920606224983826*(6.002349139347011 + 6.283185307179586*n[1] - 6.002349139347011 - 6.283185307179586*n[1])) :            0.049999 :   True\n",
      "      2 :  -Inf :  abs(0.025920606224983826*(2.240863040074224 + 6.283185307179586*n[2] - 6.002349139347011 - 6.283185307179586*n[1])) :            0.099999 :   True\n",
      "      3 :  -Inf :  abs(0.025920606224983826*(4.955458971020676 + 6.283185307179586*n[3] - 6.002349139347011 - 6.283185307179586*n[1])) : 0.14999900000000002 :   True\n",
      "      4 :  -Inf : abs(0.025920606224983826*(1.5797663178271648 + 6.283185307179586*n[4] - 6.002349139347011 - 6.283185307179586*n[1])) :            0.199999 :   True\n",
      "      5 :  -Inf :   abs(0.025920606224983826*(4.68015569485285 + 6.283185307179586*n[5] - 6.002349139347011 - 6.283185307179586*n[1])) :            0.249999 :   True\n",
      "constraint4 : Size=5, Index=M, Active=True\n",
      "    Key : Lower                : Body                                                                                                            : Upper : Active\n",
      "      1 : 0.050001000000000004 :  0.025920606224983826*(6.002349139347011 + 6.283185307179586*n[1] + 6.002349139347011 + 6.283185307179586*n[1]) :  +Inf :   True\n",
      "      2 :             0.100001 :  0.025920606224983826*(2.240863040074224 + 6.283185307179586*n[2] + 6.002349139347011 + 6.283185307179586*n[1]) :  +Inf :   True\n",
      "      3 :  0.15000100000000002 :  0.025920606224983826*(4.955458971020676 + 6.283185307179586*n[3] + 6.002349139347011 + 6.283185307179586*n[1]) :  +Inf :   True\n",
      "      4 :             0.200001 : 0.025920606224983826*(1.5797663178271648 + 6.283185307179586*n[4] + 6.002349139347011 + 6.283185307179586*n[1]) :  +Inf :   True\n",
      "      5 :             0.250001 :   0.025920606224983826*(4.68015569485285 + 6.283185307179586*n[5] + 6.002349139347011 + 6.283185307179586*n[1]) :  +Inf :   True\n",
      "WARNING: Loading a SolverResults object with a warning status into\n",
      "model.name=\"Nonconvex MINLP sample\";\n",
      "    - termination condition: maxIterations\n",
      "    - message from solver: Ipopt 3.14.16\\x3a Maximum Number of Iterations\n",
      "      Exceeded.\n"
     ]
    }
   ],
   "source": [
    "model = ConcreteModel(name=\"Nonconvex MINLP sample\")\n",
    "model.x = Var(within=Reals, initialize=1)\n",
    "model.y = Var(within=Reals, bounds=(0, None), initialize=0)\n",
    "model.M = Set(initialize=range(1,tag_population+1))\n",
    "model.n = Var(model.M, domain=Integers, initialize=n_initialize, bounds=(0, None))\n",
    "\n",
    "model.obj = Objective(rule=objective_rule1, sense=minimize)\n",
    "# model.constraint1 = Constraint()\n",
    "# model.constraint2 = Constraint(expr=model.y >= 0)\n",
    "model.constraint3 = Constraint(model.M, rule=constraint_rule3)\n",
    "model.constraint4 = Constraint(model.M, rule=constraint_rule4)\n",
    "\n",
    "for c in model.component_objects():\n",
    "    c.pprint()\n",
    "\n",
    "opt = SolverFactory('ipopt')\n",
    "\n",
    "res = opt.solve(model)"
   ]
  },
  {
   "cell_type": "code",
   "execution_count": 6,
   "metadata": {},
   "outputs": [
    {
     "name": "stdout",
     "output_type": "stream",
     "text": [
      "optimum value =  5.270676993716153e-06\n",
      "x =  [0.08353250829679228]\n",
      "y =  [41.828595540605015]\n",
      "N =  [10741.984458450286, 10742.54983227877, 10742.104753437108, 10742.668135602502, 10742.23124205864]\n"
     ]
    }
   ],
   "source": [
    "print('optimum value = ', model.obj())\n",
    "print(\"x = \", model.x[:]())\n",
    "print(\"y = \", model.y[:]())\n",
    "print(\"N = \", model.n[:]())"
   ]
  }
 ],
 "metadata": {
  "kernelspec": {
   "display_name": "Python 3",
   "language": "python",
   "name": "python3"
  },
  "language_info": {
   "codemirror_mode": {
    "name": "ipython",
    "version": 3
   },
   "file_extension": ".py",
   "mimetype": "text/x-python",
   "name": "python",
   "nbconvert_exporter": "python",
   "pygments_lexer": "ipython3",
   "version": "3.12.6"
  }
 },
 "nbformat": 4,
 "nbformat_minor": 2
}

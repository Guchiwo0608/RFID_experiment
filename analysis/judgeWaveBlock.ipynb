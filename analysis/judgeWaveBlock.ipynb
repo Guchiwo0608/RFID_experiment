{
 "cells": [
  {
   "cell_type": "code",
   "execution_count": 54,
   "metadata": {},
   "outputs": [],
   "source": [
    "import numpy as np\n",
    "import pandas as pd\n",
    "import matplotlib.pyplot as plt\n",
    "import math\n",
    "from numpy.random import default_rng\n",
    "from lmfit.models import SineModel\n",
    "from scipy.optimize import curve_fit\n",
    "%matplotlib inline"
   ]
  },
  {
   "cell_type": "code",
   "execution_count": 55,
   "metadata": {},
   "outputs": [],
   "source": [
    "TagTable = {\n",
    "    'Tag1' : '9990 1912 9990 9990 9990 0097',\n",
    "    'Tag2' : '9990 1912 9990 9990 9990 0098',\n",
    "    'Tag3' : '9990 1912 9990 9990 9990 0099',\n",
    "    'Tag4' : '9990 1912 9990 9990 9990 0100',\n",
    "    'Tag5' : '9990 1912 9990 9990 9990 0101',\n",
    "    'Tag6' : '9990 1912 9990 9990 9990 0102',\n",
    "    'Tag7' : '9990 1912 9990 9990 9990 0103',\n",
    "    'Tag8' : '9990 1912 9990 9990 9990 0104',\n",
    "    'Tag9' : '9990 1912 9990 9990 9990 0105',\n",
    "    'Tag10' : '9990 1912 9990 9990 9990 0106',\n",
    "}"
   ]
  },
  {
   "cell_type": "code",
   "execution_count": 56,
   "metadata": {},
   "outputs": [],
   "source": [
    "def inverse_lookup(d, x):\n",
    "    for k,v in d.items():\n",
    "        if x == v:\n",
    "            return k"
   ]
  },
  {
   "cell_type": "code",
   "execution_count": 57,
   "metadata": {},
   "outputs": [
    {
     "name": "stdout",
     "output_type": "stream",
     "text": [
      "32.57279443720122\n"
     ]
    }
   ],
   "source": [
    "c = 2.998e8 #光の速度\n",
    "f = 920.4e6 #周波数\n",
    "wavelength = c / f * 100\n",
    "print(wavelength)"
   ]
  },
  {
   "cell_type": "code",
   "execution_count": 58,
   "metadata": {},
   "outputs": [],
   "source": [
    "RSSI0 = -58.5"
   ]
  },
  {
   "cell_type": "code",
   "execution_count": 59,
   "metadata": {},
   "outputs": [],
   "source": [
    "def culDistance(value):\n",
    "    return pow(10, (RSSI0 - value)/20) * 100"
   ]
  },
  {
   "cell_type": "code",
   "execution_count": 60,
   "metadata": {},
   "outputs": [
    {
     "data": {
      "text/html": [
       "<div>\n",
       "<style scoped>\n",
       "    .dataframe tbody tr th:only-of-type {\n",
       "        vertical-align: middle;\n",
       "    }\n",
       "\n",
       "    .dataframe tbody tr th {\n",
       "        vertical-align: top;\n",
       "    }\n",
       "\n",
       "    .dataframe thead th {\n",
       "        text-align: right;\n",
       "    }\n",
       "</style>\n",
       "<table border=\"1\" class=\"dataframe\">\n",
       "  <thead>\n",
       "    <tr style=\"text-align: right;\">\n",
       "      <th></th>\n",
       "      <th>Tag ID</th>\n",
       "      <th>RSSI</th>\n",
       "      <th>Phase</th>\n",
       "      <th>Frequency</th>\n",
       "      <th>Antenna No</th>\n",
       "      <th>Created At</th>\n",
       "    </tr>\n",
       "  </thead>\n",
       "  <tbody>\n",
       "    <tr>\n",
       "      <th>0</th>\n",
       "      <td>9990 1912 9990 9990 9990 0139</td>\n",
       "      <td>-61.5</td>\n",
       "      <td>3.761321</td>\n",
       "      <td>920.4</td>\n",
       "      <td>1</td>\n",
       "      <td>12/5/2022 6:04:36 PM</td>\n",
       "    </tr>\n",
       "    <tr>\n",
       "      <th>1</th>\n",
       "      <td>9990 1912 9990 9990 9990 0100</td>\n",
       "      <td>-64.0</td>\n",
       "      <td>5.718680</td>\n",
       "      <td>920.4</td>\n",
       "      <td>1</td>\n",
       "      <td>12/5/2022 6:04:36 PM</td>\n",
       "    </tr>\n",
       "    <tr>\n",
       "      <th>2</th>\n",
       "      <td>9990 1912 9990 9990 9990 0122</td>\n",
       "      <td>-61.0</td>\n",
       "      <td>2.135301</td>\n",
       "      <td>920.4</td>\n",
       "      <td>1</td>\n",
       "      <td>12/5/2022 6:04:36 PM</td>\n",
       "    </tr>\n",
       "    <tr>\n",
       "      <th>3</th>\n",
       "      <td>9990 1912 9990 9990 9990 0098</td>\n",
       "      <td>-55.0</td>\n",
       "      <td>2.515728</td>\n",
       "      <td>920.4</td>\n",
       "      <td>1</td>\n",
       "      <td>12/5/2022 6:04:36 PM</td>\n",
       "    </tr>\n",
       "    <tr>\n",
       "      <th>4</th>\n",
       "      <td>9990 1912 9990 9990 9990 0113</td>\n",
       "      <td>-59.0</td>\n",
       "      <td>1.619884</td>\n",
       "      <td>920.4</td>\n",
       "      <td>1</td>\n",
       "      <td>12/5/2022 6:04:36 PM</td>\n",
       "    </tr>\n",
       "  </tbody>\n",
       "</table>\n",
       "</div>"
      ],
      "text/plain": [
       "                          Tag ID  RSSI     Phase  Frequency  Antenna No  \\\n",
       "0  9990 1912 9990 9990 9990 0139 -61.5  3.761321      920.4           1   \n",
       "1  9990 1912 9990 9990 9990 0100 -64.0  5.718680      920.4           1   \n",
       "2  9990 1912 9990 9990 9990 0122 -61.0  2.135301      920.4           1   \n",
       "3  9990 1912 9990 9990 9990 0098 -55.0  2.515728      920.4           1   \n",
       "4  9990 1912 9990 9990 9990 0113 -59.0  1.619884      920.4           1   \n",
       "\n",
       "              Created At  \n",
       "0   12/5/2022 6:04:36 PM  \n",
       "1   12/5/2022 6:04:36 PM  \n",
       "2   12/5/2022 6:04:36 PM  \n",
       "3   12/5/2022 6:04:36 PM  \n",
       "4   12/5/2022 6:04:36 PM  "
      ]
     },
     "execution_count": 60,
     "metadata": {},
     "output_type": "execute_result"
    }
   ],
   "source": [
    "rfiddf=pd.read_csv('results2.csv')\n",
    "data_size = len(rfiddf)\n",
    "rfiddf.head()"
   ]
  },
  {
   "cell_type": "code",
   "execution_count": 61,
   "metadata": {},
   "outputs": [
    {
     "data": {
      "text/html": [
       "<div>\n",
       "<style scoped>\n",
       "    .dataframe tbody tr th:only-of-type {\n",
       "        vertical-align: middle;\n",
       "    }\n",
       "\n",
       "    .dataframe tbody tr th {\n",
       "        vertical-align: top;\n",
       "    }\n",
       "\n",
       "    .dataframe thead th {\n",
       "        text-align: right;\n",
       "    }\n",
       "</style>\n",
       "<table border=\"1\" class=\"dataframe\">\n",
       "  <thead>\n",
       "    <tr style=\"text-align: right;\">\n",
       "      <th></th>\n",
       "      <th>RSSI</th>\n",
       "      <th>Phase</th>\n",
       "      <th>Frequency</th>\n",
       "      <th>Antenna No</th>\n",
       "    </tr>\n",
       "  </thead>\n",
       "  <tbody>\n",
       "    <tr>\n",
       "      <th>count</th>\n",
       "      <td>510.000000</td>\n",
       "      <td>510.000000</td>\n",
       "      <td>5.100000e+02</td>\n",
       "      <td>510.0</td>\n",
       "    </tr>\n",
       "    <tr>\n",
       "      <th>mean</th>\n",
       "      <td>-51.240196</td>\n",
       "      <td>3.446831</td>\n",
       "      <td>9.204000e+02</td>\n",
       "      <td>1.0</td>\n",
       "    </tr>\n",
       "    <tr>\n",
       "      <th>std</th>\n",
       "      <td>8.669417</td>\n",
       "      <td>2.506872</td>\n",
       "      <td>2.275969e-13</td>\n",
       "      <td>0.0</td>\n",
       "    </tr>\n",
       "    <tr>\n",
       "      <th>min</th>\n",
       "      <td>-69.000000</td>\n",
       "      <td>0.000000</td>\n",
       "      <td>9.204000e+02</td>\n",
       "      <td>1.0</td>\n",
       "    </tr>\n",
       "    <tr>\n",
       "      <th>25%</th>\n",
       "      <td>-58.000000</td>\n",
       "      <td>0.742447</td>\n",
       "      <td>9.204000e+02</td>\n",
       "      <td>1.0</td>\n",
       "    </tr>\n",
       "    <tr>\n",
       "      <th>50%</th>\n",
       "      <td>-54.500000</td>\n",
       "      <td>3.911651</td>\n",
       "      <td>9.204000e+02</td>\n",
       "      <td>1.0</td>\n",
       "    </tr>\n",
       "    <tr>\n",
       "      <th>75%</th>\n",
       "      <td>-43.000000</td>\n",
       "      <td>6.092972</td>\n",
       "      <td>9.204000e+02</td>\n",
       "      <td>1.0</td>\n",
       "    </tr>\n",
       "    <tr>\n",
       "      <th>max</th>\n",
       "      <td>-34.500000</td>\n",
       "      <td>6.277049</td>\n",
       "      <td>9.204000e+02</td>\n",
       "      <td>1.0</td>\n",
       "    </tr>\n",
       "  </tbody>\n",
       "</table>\n",
       "</div>"
      ],
      "text/plain": [
       "             RSSI       Phase     Frequency  Antenna No\n",
       "count  510.000000  510.000000  5.100000e+02       510.0\n",
       "mean   -51.240196    3.446831  9.204000e+02         1.0\n",
       "std      8.669417    2.506872  2.275969e-13         0.0\n",
       "min    -69.000000    0.000000  9.204000e+02         1.0\n",
       "25%    -58.000000    0.742447  9.204000e+02         1.0\n",
       "50%    -54.500000    3.911651  9.204000e+02         1.0\n",
       "75%    -43.000000    6.092972  9.204000e+02         1.0\n",
       "max    -34.500000    6.277049  9.204000e+02         1.0"
      ]
     },
     "execution_count": 61,
     "metadata": {},
     "output_type": "execute_result"
    }
   ],
   "source": [
    "rfiddf.describe()"
   ]
  },
  {
   "cell_type": "code",
   "execution_count": 62,
   "metadata": {},
   "outputs": [
    {
     "data": {
      "text/plain": [
       "Tag ID        9990 1912 9990 9990 9990 0100\n",
       "RSSI                                  -64.0\n",
       "Phase                               5.71868\n",
       "Frequency                             920.4\n",
       "Antenna No                                1\n",
       "Created At             12/5/2022 6:04:36 PM\n",
       "Name: 1, dtype: object"
      ]
     },
     "execution_count": 62,
     "metadata": {},
     "output_type": "execute_result"
    }
   ],
   "source": [
    "rfiddf.loc[1]"
   ]
  },
  {
   "cell_type": "code",
   "execution_count": 63,
   "metadata": {},
   "outputs": [
    {
     "data": {
      "text/html": [
       "<div>\n",
       "<style scoped>\n",
       "    .dataframe tbody tr th:only-of-type {\n",
       "        vertical-align: middle;\n",
       "    }\n",
       "\n",
       "    .dataframe tbody tr th {\n",
       "        vertical-align: top;\n",
       "    }\n",
       "\n",
       "    .dataframe thead th {\n",
       "        text-align: right;\n",
       "    }\n",
       "</style>\n",
       "<table border=\"1\" class=\"dataframe\">\n",
       "  <thead>\n",
       "    <tr style=\"text-align: right;\">\n",
       "      <th></th>\n",
       "      <th>Tag No.</th>\n",
       "      <th>Block Base</th>\n",
       "      <th>RSSI</th>\n",
       "      <th>Phase</th>\n",
       "    </tr>\n",
       "  </thead>\n",
       "  <tbody>\n",
       "    <tr>\n",
       "      <th>0</th>\n",
       "      <td>Tag 1</td>\n",
       "      <td>0.0</td>\n",
       "      <td>-42.8921568627451</td>\n",
       "      <td>0.6898702617832364</td>\n",
       "    </tr>\n",
       "    <tr>\n",
       "      <th>1</th>\n",
       "      <td>Tag 2</td>\n",
       "      <td>16.28</td>\n",
       "      <td>-42.765306122448976</td>\n",
       "      <td>5.940575394064883</td>\n",
       "    </tr>\n",
       "    <tr>\n",
       "      <th>2</th>\n",
       "      <td>Tag 3</td>\n",
       "      <td>32.56</td>\n",
       "      <td>-47.46938775510204</td>\n",
       "      <td>1.023947828778848</td>\n",
       "    </tr>\n",
       "    <tr>\n",
       "      <th>3</th>\n",
       "      <td>Tag 4</td>\n",
       "      <td>48.84</td>\n",
       "      <td>-49.795918367346935</td>\n",
       "      <td>6.1367997119927855</td>\n",
       "    </tr>\n",
       "    <tr>\n",
       "      <th>4</th>\n",
       "      <td>Tag 5</td>\n",
       "      <td>65.12</td>\n",
       "      <td>-56.45652173913044</td>\n",
       "      <td>2.0790775261199603</td>\n",
       "    </tr>\n",
       "  </tbody>\n",
       "</table>\n",
       "</div>"
      ],
      "text/plain": [
       "  Tag No. Block Base                 RSSI               Phase\n",
       "0   Tag 1        0.0    -42.8921568627451  0.6898702617832364\n",
       "1   Tag 2      16.28  -42.765306122448976   5.940575394064883\n",
       "2   Tag 3      32.56   -47.46938775510204   1.023947828778848\n",
       "3   Tag 4      48.84  -49.795918367346935  6.1367997119927855\n",
       "4   Tag 5      65.12   -56.45652173913044  2.0790775261199603"
      ]
     },
     "execution_count": 63,
     "metadata": {},
     "output_type": "execute_result"
    }
   ],
   "source": [
    "def getMean(rfiddf):\n",
    "    columns = ['Tag No.', 'Block Base', 'RSSI', 'Phase']\n",
    "    data = np.empty((0,4))\n",
    "    for i in range(1, 11):\n",
    "            df = rfiddf[rfiddf['Tag ID'] == TagTable[f'Tag{i}']]\n",
    "            data = np.append(\n",
    "                data,\n",
    "                [[f'Tag {i}', 16.28 * (i-1), df['RSSI'].mean(), df['Phase'].mean()]],\n",
    "                axis=0\n",
    "            )\n",
    "    rfiddf2 = pd.DataFrame(\n",
    "        columns=columns,\n",
    "        data=data\n",
    "    )\n",
    "    return rfiddf2\n",
    "\n",
    "getMean(rfiddf=rfiddf).head()"
   ]
  },
  {
   "cell_type": "code",
   "execution_count": 64,
   "metadata": {},
   "outputs": [],
   "source": [
    "def getDistance(df):\n",
    "    columns = ['Tag No.', 'Distance']\n",
    "    data = np.empty((0,2))\n",
    "    for i in range(0, len(df)-1):\n",
    "        if df['Tag ID'][i] in TagTable.values():\n",
    "            data=np.append(\n",
    "                data,\n",
    "                [[inverse_lookup(TagTable, df['Tag ID'][i]), float(culDistance(df['RSSI'][i]))]],\n",
    "                axis=0\n",
    "            )\n",
    "    df2 = pd.DataFrame(\n",
    "        columns=columns,\n",
    "        data = data\n",
    "    )\n",
    "    return df2"
   ]
  },
  {
   "cell_type": "code",
   "execution_count": 65,
   "metadata": {},
   "outputs": [],
   "source": [
    "data = getDistance(rfiddf)\n",
    "\n",
    "\n",
    "Tag1 = [float(item) for item in data[data['Tag No.'] == 'Tag1']['Distance'].tolist()]\n",
    "Tag2 = [float(item) for item in data[data['Tag No.'] == 'Tag2']['Distance'].tolist()]\n",
    "Tag3 = [float(item) for item in data[data['Tag No.'] == 'Tag3']['Distance'].tolist()]\n",
    "Tag4 = [float(item) for item in data[data['Tag No.'] == 'Tag4']['Distance'].tolist()]\n",
    "Tag5 = [float(item) for item in data[data['Tag No.'] == 'Tag5']['Distance'].tolist()]\n",
    "Tag6 = [float(item) for item in data[data['Tag No.'] == 'Tag6']['Distance'].tolist()]\n",
    "Tag7 = [float(item) for item in data[data['Tag No.'] == 'Tag7']['Distance'].tolist()]\n",
    "Tag8 = [float(item) for item in data[data['Tag No.'] == 'Tag8']['Distance'].tolist()]\n",
    "Tag9 = [float(item) for item in data[data['Tag No.'] == 'Tag9']['Distance'].tolist()]\n",
    "Tag10 = data[data['Tag No.'] == 'Tag10']['Distance'].tolist()\n",
    "\n",
    "pltdata = [Tag1, Tag2, Tag3, Tag4, Tag5, Tag6, Tag7, Tag8, Tag9, Tag10]"
   ]
  },
  {
   "cell_type": "code",
   "execution_count": 67,
   "metadata": {},
   "outputs": [
    {
     "data": {
      "text/plain": [
       "[<matplotlib.axis.YTick at 0x1654de1f0>,\n",
       " <matplotlib.axis.YTick at 0x1654d8a30>,\n",
       " <matplotlib.axis.YTick at 0x1654d1a60>,\n",
       " <matplotlib.axis.YTick at 0x1655be0a0>,\n",
       " <matplotlib.axis.YTick at 0x1655be700>,\n",
       " <matplotlib.axis.YTick at 0x1655bee50>,\n",
       " <matplotlib.axis.YTick at 0x1655c35e0>,\n",
       " <matplotlib.axis.YTick at 0x1655c3d30>,\n",
       " <matplotlib.axis.YTick at 0x1655c39d0>,\n",
       " <matplotlib.axis.YTick at 0x1655be760>,\n",
       " <matplotlib.axis.YTick at 0x1655b7cd0>]"
      ]
     },
     "execution_count": 67,
     "metadata": {},
     "output_type": "execute_result"
    },
    {
     "data": {
      "image/png": "[encoded data removed]",
      "text/plain": [
       "<Figure size 720x720 with 1 Axes>"
      ]
     },
     "metadata": {
      "needs_background": "light"
     },
     "output_type": "display_data"
    }
   ],
   "source": [
    "fig, ax = plt.subplots(figsize=(10,10))\n",
    "ax.boxplot(pltdata)\n",
    "ax.set_xticklabels(['Tag1', 'Tag2', 'Tag3', 'Tag4', 'Tag5', 'Tag6', 'Tag7', 'Tag8', 'Tag9', 'Tag10'])\n",
    "ax.set_yticks(np.arange(0, 179.08, 16.28))"
   ]
  }
 ],
 "metadata": {
  "interpreter": {
   "hash": "f0447b1d6a34828d4d0619583015290e7fdd5674fb6ed1826a9eaf60c98b839f"
  },
  "kernelspec": {
   "display_name": "Python 3.9.8 64-bit ('3.9.8')",
   "language": "python",
   "name": "python3"
  },
  "language_info": {
   "codemirror_mode": {
    "name": "ipython",
    "version": 3
   },
   "file_extension": ".py",
   "mimetype": "text/x-python",
   "name": "python",
   "nbconvert_exporter": "python",
   "pygments_lexer": "ipython3",
   "version": "3.9.8 (main, Apr  8 2022, 16:57:59) \n[Clang 13.1.6 (clang-1316.0.21.2)]"
  },
  "orig_nbformat": 4
 },
 "nbformat": 4,
 "nbformat_minor": 2
}

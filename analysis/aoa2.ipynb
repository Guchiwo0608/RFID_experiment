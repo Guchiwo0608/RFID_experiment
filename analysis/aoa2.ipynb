{
 "cells": [
  {
   "attachments": {},
   "cell_type": "markdown",
   "metadata": {},
   "source": [
    "# ２つのアンテナアレイからのAoAによる二次元測位"
   ]
  },
  {
   "cell_type": "code",
   "execution_count": 783,
   "metadata": {},
   "outputs": [],
   "source": [
    "import numpy as np\n",
    "import pandas as pd\n",
    "import matplotlib.pyplot as plt\n",
    "from numpy.random import default_rng\n",
    "from lmfit.models import SineModel\n",
    "from scipy.optimize import curve_fit\n",
    "from typing import Optional\n",
    "import sympy as sp\n",
    "from sympy.plotting import plot3d\n",
    "from components import point2d as p2\n",
    "from components import point3d as p3\n",
    "from components import antennaPair as antp\n",
    "from components import antenna as ant\n",
    "import itertools\n",
    "%matplotlib inline"
   ]
  },
  {
   "cell_type": "code",
   "execution_count": 784,
   "metadata": {},
   "outputs": [
    {
     "name": "stdout",
     "output_type": "stream",
     "text": [
      "波長λ:32.57279443720122, Lの最大値:29.124828154140907\n"
     ]
    }
   ],
   "source": [
    "c = 2.998e8 #光の速度\n",
    "f = 920.4e6 #周波数\n",
    "WAVE_LENGTH = c / f * 100 #理論波長\n",
    "THETA_M = 34 * np.pi / 180\n",
    "MAX_L = WAVE_LENGTH / (2 * np.sin(THETA_M))\n",
    "L = 25\n",
    "BETA = 2\n",
    "DATA_LENGTH = 10\n",
    "print(f'波長λ:{WAVE_LENGTH}, Lの最大値:{MAX_L}')\n",
    "R=45"
   ]
  },
  {
   "cell_type": "code",
   "execution_count": 785,
   "metadata": {},
   "outputs": [],
   "source": [
    "DATA_FILE_PATH_LIST=[\n",
    "    '..//data//triangulation_GTag_p40.csv',\n",
    "    '..//data//triangulation_GTag_p35.csv',\n",
    "    '..//data//triangulation_GTag_p30.csv',\n",
    "    '..//data//triangulation_GTag_p25.csv',\n",
    "    '..//data//triangulation_GTag_p20.csv',\n",
    "    '..//data//triangulation_GTag_p15.csv',\n",
    "    '..//data//triangulation_GTag_p10.csv',\n",
    "    '..//data//triangulation_GTag_p5.csv',\n",
    "    '..//data//triangulation_GTag_0.csv',\n",
    "    '..//data//triangulation_GTag_m5.csv',\n",
    "    '..//data//triangulation_GTag_m10.csv',\n",
    "    '..//data//triangulation_GTag_m15.csv',\n",
    "    '..//data//triangulation_GTag_m20.csv',\n",
    "    '..//data//triangulation_GTag_m25.csv',\n",
    "    '..//data//triangulation_GTag_m30.csv',\n",
    "    '..//data//triangulation_GTag_m35.csv',\n",
    "    '..//data//triangulation_GTag_m40.csv',\n",
    "]\n",
    "\n",
    "DATA_FILE_PATH_LIST2=[\n",
    "    '..//data//aoa_p30_50cm.csv',\n",
    "    '..//data//aoa_p30_60cm.csv',\n",
    "    '..//data//aoa_p30_70cm.csv',\n",
    "    '..//data//aoa_p30_80cm.csv',\n",
    "    '..//data//aoa_p30_90cm.csv',\n",
    "    '..//data//aoa_p30_100cm.csv',\n",
    "    '..//data//aoa_p30_110cm.csv',\n",
    "    '..//data//aoa_p30_120cm.csv',\n",
    "    '..//data//aoa_p30_130cm.csv',\n",
    "    '..//data//aoa_p30_140cm.csv',\n",
    "    '..//data//aoa_p30_150cm.csv'\n",
    "]"
   ]
  },
  {
   "cell_type": "code",
   "execution_count": 786,
   "metadata": {},
   "outputs": [],
   "source": [
    "ANGLE_RANGE = range(int(-(len(DATA_FILE_PATH_LIST)-1)/2*5), int((len(DATA_FILE_PATH_LIST)-1)/2*5+5), 5)\n",
    "R1_LIST = [np.sqrt(pow(R, 2) + pow((L/2), 2) + R * L * np.sin((i) * np.pi / 180)) for i in ANGLE_RANGE]\n",
    "R2_LIST = [np.sqrt(pow(R, 2) + pow((L/2), 2) - R * L * np.sin((i) * np.pi / 180)) for i in ANGLE_RANGE]\n",
    "ACTUAL_PHASE1 = [(-4 * np.pi / WAVE_LENGTH * R1_LIST[i]) % (2 * np.pi) for i in range(0,len(DATA_FILE_PATH_LIST))]\n",
    "ACTUAL_PHASE2 = [(-4 * np.pi / WAVE_LENGTH * R2_LIST[i]) % (2 * np.pi) for i in range(0,len(DATA_FILE_PATH_LIST))]\n",
    "R_RANGE = range(50, 160, 10)\n",
    "R1_LIST_LENGTH = [np.sqrt(pow(r, 2) + pow((L/2), 2) - r * L * np.sin(30 * np.pi / 180)) for r in R_RANGE]\n",
    "R2_LIST_LENGTH = [np.sqrt(pow(r, 2) + pow((L/2), 2) + r * L * np.sin(30 * np.pi / 180)) for r in R_RANGE]"
   ]
  },
  {
   "cell_type": "code",
   "execution_count": 787,
   "metadata": {},
   "outputs": [],
   "source": [
    "TARGET_TAG ='E200 470F C1A0 6023 A8E6 010F' "
   ]
  },
  {
   "cell_type": "code",
   "execution_count": 788,
   "metadata": {},
   "outputs": [],
   "source": [
    "ANTENNA_PAIR_LIST = {\n",
    "    'Pair1' : [ant.Antenna(point=p3.Point3d(-12.5, 0, 0), frequency=920.4, number=4, theta_m=34),ant.Antenna(point=p3.Point3d(12.5, 0, 0), frequency=920.4, number=6, theta_m=34)],\n",
    "    # 'PairY' : [ant.Antenna(point=p3.Point3d(0, 0, 0), frequency=920.4, number=5, theta_m=34),ant.Antenna(point=p3.Point3d(0, 25.0, 0), frequency=920.4, number=6, theta_m=34)]\n",
    "}"
   ]
  },
  {
   "cell_type": "code",
   "execution_count": 789,
   "metadata": {},
   "outputs": [],
   "source": [
    "r0=np.sqrt(pow(R, 2) + pow((L/2), 2) + R * L)\n",
    "actual_phase_0 = (-4 * np.pi / WAVE_LENGTH * r0) % (2 * np.pi)"
   ]
  },
  {
   "cell_type": "code",
   "execution_count": 790,
   "metadata": {},
   "outputs": [],
   "source": [
    "class RfidDf:\n",
    "    def __init__(self, csv_file:str, phi0_file:str, antenna_pair_list:dict, target_tag:str):\n",
    "        self.df=pd.read_csv(csv_file)\n",
    "        phi0_df = pd.read_csv(phi0_file)\n",
    "        self.data_size = len(self.df)\n",
    "        self.antenna_pair_list = antenna_pair_list\n",
    "        self.target_tag = target_tag\n",
    "        self.df = self.df[self.df['Tag ID'] == self.target_tag]\n",
    "        self.df['Antenna Pair No.'] = self.df['Antenna No.'].apply(self.__get_antenna_pair_number)\n",
    "        self.df['Phase'] = self.df['Phase'].astype(float)\n",
    "        self.df['RSSI'] = self.df['RSSI'].astype(float)\n",
    "        self.df = self.df.drop(['Tag ID'], axis=1).set_index(['Antenna Pair No.', 'Antenna No.', 'Data Number'])\n",
    "        phi0_df = phi0_df[phi0_df['Tag ID'] == 'E200 470F C1A0 6023 A8E6 010F']\n",
    "        phi0_df['Phase'] = phi0_df['Phase'].astype(float)\n",
    "        phi0_df['RSSI'] = phi0_df['RSSI'].astype(float)\n",
    "        phi0_df = phi0_df.drop(['Tag ID'], axis=1)\n",
    "        self.phi0 = self.get_phi0(phi0_df=phi0_df)\n",
    "    \n",
    "    def __get_antenna_pair_number(self, antenna_number:int) -> str:\n",
    "        for k in self.antenna_pair_list:\n",
    "            for i in self.antenna_pair_list[k]:\n",
    "                if i.number == antenna_number:\n",
    "                    return k\n",
    "\n",
    "    def __get_phase_diff(self, phase1:float, phase2:float, rssi1:float, rssi2:float) -> float:\n",
    "        delta_phi = (phase1-phase2)-self.phi0[0]+self.phi0[1]-0.3\n",
    "        if (delta_phi < 0) & (rssi1 > rssi2):\n",
    "            delta_phi = delta_phi + 2 * np.pi\n",
    "        if (delta_phi >= 0) & (rssi1 <= rssi2):\n",
    "            delta_phi = delta_phi - 2 * np.pi\n",
    "        return delta_phi\n",
    "\n",
    "    def __cul_angle_from_phase(self, phase1:float, phase2:float, rssi1:float, rssi2:float) -> float:\n",
    "        return np.arcsin(-WAVE_LENGTH / (4 * np.pi * L) * self.__get_phase_diff(phase1, phase2, rssi1, rssi2)) * 180 /np.pi\n",
    "\n",
    "    def get_phi0(self, phi0_df:pd.DataFrame) -> list:\n",
    "        ant1_phi0 = phi0_df[phi0_df[\"Antenna No.\"]==6]['Phase'].mean() + actual_phase_0\n",
    "        ant2_phi0 = phi0_df[phi0_df[\"Antenna No.\"]==4]['Phase'].mean() + actual_phase_0\n",
    "        return [ant1_phi0, ant2_phi0]\n",
    "\n",
    "    def get_data_array(self, pair:str) -> dict:\n",
    "        data_array = {\n",
    "            \"phase_diff\" : [],\n",
    "            \"angle\" : []\n",
    "        }\n",
    "        ant1 = self.antenna_pair_list[pair][0]\n",
    "        ant2 = self.antenna_pair_list[pair][1]\n",
    "        for i in range(0, DATA_LENGTH):\n",
    "            ant1_phase = self.df.xs((pair, ant1.number, i))['Phase']\n",
    "            ant2_phase = self.df.xs((pair, ant2.number, i))['Phase']\n",
    "            ant1_rssi = self.df.xs((pair, ant1.number, i))['RSSI']\n",
    "            ant2_rssi = self.df.xs((pair, ant2.number, i))['RSSI']\n",
    "            phase_diff = self.__get_phase_diff(ant1_phase, ant2_phase, ant1_rssi, ant2_rssi)\n",
    "            angle = self.__cul_angle_from_phase(ant1_phase, ant2_phase, ant1_rssi, ant2_rssi)\n",
    "            data_array[\"phase_diff\"].append(phase_diff)\n",
    "            data_array[\"angle\"].append(angle)\n",
    "        return data_array"
   ]
  },
  {
   "cell_type": "code",
   "execution_count": 791,
   "metadata": {},
   "outputs": [],
   "source": [
    "triangulation_list = []\n",
    "angle_phase_list = []\n",
    "angle_phase_mean_list = []\n",
    "phase_diff_mean_list = []\n",
    "ant1_phase_mean_list = []\n",
    "ant2_phase_mean_list = []\n",
    "rssi_diff_mean_list = []\n",
    "angle_phase_mean_list2 = []\n",
    "phase_diff_mean_list2 = []\n",
    "for i in range(0, len(DATA_FILE_PATH_LIST)):\n",
    "    triangulation_list.append(\n",
    "        RfidDf(\n",
    "            phi0_file=DATA_FILE_PATH_LIST[8],\n",
    "            csv_file=DATA_FILE_PATH_LIST[i],\n",
    "            antenna_pair_list=ANTENNA_PAIR_LIST,\n",
    "            target_tag=TARGET_TAG,\n",
    "        )\n",
    "    )\n",
    "    angle_phase_mean_list.append(np.mean(triangulation_list[i].get_data_array(\"Pair1\")['angle']))\n",
    "    phase_diff_mean_list.append(np.mean(triangulation_list[i].get_data_array(\"Pair1\")['phase_diff']))\n",
    "# for i in range(0, len(DATA_FILE_PATH_LIST2)):\n",
    "#     triangulation_list.append(\n",
    "#         RfidDf(\n",
    "#             phi0_file=DATA_FILE_PATH_LIST[8],\n",
    "#             csv_file=DATA_FILE_PATH_LIST2[i],\n",
    "#             antenna_pair_list=ANTENNA_PAIR_LIST,\n",
    "#             target_tag=TARGET_TAG,\n",
    "#         )\n",
    "#     )\n",
    "#     angle_phase_mean_list2.append(np.mean(triangulation_list[i].get_data_array(\"Pair1\")['angle']))\n",
    "#     phase_diff_mean_list2.append(np.mean(triangulation_list[i].get_data_array(\"Pair1\")['phase_diff']))"
   ]
  },
  {
   "cell_type": "code",
   "execution_count": 792,
   "metadata": {},
   "outputs": [
    {
     "data": {
      "text/plain": [
       "<matplotlib.legend.Legend at 0x29002cf40>"
      ]
     },
     "execution_count": 792,
     "metadata": {},
     "output_type": "execute_result"
    },
    {
     "data": {
      "image/png": "[encoded data removed]",
      "text/plain": [
       "<Figure size 1152x432 with 2 Axes>"
      ]
     },
     "metadata": {
      "needs_background": "light"
     },
     "output_type": "display_data"
    }
   ],
   "source": [
    "fig, (ax1, ax2) = plt.subplots(1, 2, figsize=(16,6))\n",
    "ax1.plot(ANGLE_RANGE, phase_diff_mean_list, marker='o', label=f'Meeasured Phase Difference', color='crimson')\n",
    "ax1.plot(ANGLE_RANGE, [-4 * np.pi * L / WAVE_LENGTH * np.sin(theta * np.pi / 180) for theta in ANGLE_RANGE], label=\"Theoretical Phase Difference\",color=\"green\")\n",
    "ax1.set_ylabel('Phase Diff[rad]')\n",
    "ax1.set_xlabel('Actual Angle[°]')\n",
    "ax1.legend()\n",
    "ax1.set_title(\"(a)\", y=-0.2)\n",
    "ax2.plot(ANGLE_RANGE, angle_phase_mean_list, marker='o', label='Measured Angle', color='crimson')\n",
    "ax2.plot(ANGLE_RANGE, [(R1_LIST[i]-R2_LIST[i]) / L * 180 / np.pi for i in range(0, len(DATA_FILE_PATH_LIST))], label='Theoretical Angle', color='blue')\n",
    "ax2.set_ylim(-65, 65)\n",
    "ax2.set_ylabel('Angle[°]')\n",
    "ax2.set_xlabel('Actual Angle[°]') \n",
    "ax2.set_title(\"(b)\", y=-0.2)\n",
    "ax2.legend()"
   ]
  },
  {
   "cell_type": "code",
   "execution_count": 793,
   "metadata": {},
   "outputs": [],
   "source": [
    "actual_phase_length1 = [(-4 * np.pi * r1 / WAVE_LENGTH)  for r1 in R1_LIST_LENGTH]\n",
    "actual_phase_length2 = [(-4 * np.pi * r2 / WAVE_LENGTH)  for r2 in R2_LIST_LENGTH]\n",
    "actual_phase_diff = [actual_phase_length1[i]-actual_phase_length2[i] for i in range(0, len(DATA_FILE_PATH_LIST2))]\n",
    "actual_angle = [(R1_LIST_LENGTH[i]-R2_LIST_LENGTH[i]) / L * 180 / np.pi for i in range(0, len(DATA_FILE_PATH_LIST2))]"
   ]
  },
  {
   "cell_type": "code",
   "execution_count": 794,
   "metadata": {},
   "outputs": [],
   "source": [
    "# fig, (ax1, ax2) = plt.subplots(1,2, figsize=(16,6))\n",
    "# ax1.plot(R_RANGE, phase_diff_mean_list2, marker='o', label=f'Measured Phase Difference', color='crimson')\n",
    "# ax1.plot(R_RANGE, actual_phase_diff, label=\"Theoretical Phase Difference\", color=\"green\")\n",
    "# ax1.set_ylabel('Phase Diff[rad]')\n",
    "# ax1.set_xlabel('Distance[cm]')\n",
    "# ax1.set_ylim(-6.5, 6.5)\n",
    "# ax1.legend()\n",
    "# ax2.plot(R_RANGE, angle_phase_mean_list2, marker='o', label='Measured Angle', color='crimson')\n",
    "# ax2.plot(R_RANGE, actual_angle, label='Theoretical Angle', color='blue')\n",
    "# ax2.set_ylim(-65, 65)\n",
    "# ax2.set_ylabel('Angle[°]')\n",
    "# ax2.set_xlabel('Distance[cm]') \n",
    "# ax2.legend()\n",
    "# ax1.set_title(\"(a)\", y=-0.2)\n",
    "# ax2.set_title(\"(b)\", y=-0.2)"
   ]
  },
  {
   "cell_type": "code",
   "execution_count": 795,
   "metadata": {},
   "outputs": [],
   "source": [
    "def cul_rmse(actual_angle, measured_angle):\n",
    "    rmse = np.sqrt(np.mean([pow(actual_angle[i]-measured_angle[i], 2) for i in range(0, len(DATA_FILE_PATH_LIST2)-1)]))\n",
    "    return rmse"
   ]
  },
  {
   "cell_type": "code",
   "execution_count": 796,
   "metadata": {},
   "outputs": [],
   "source": [
    "# angle_range = list(ANGLE_RANGE)\n",
    "# angle_range.pop(8)\n",
    "# angle_phase_mean_list.pop(8)\n",
    "# print(cul_rmse(angle_range, angle_phase_mean_list))"
   ]
  },
  {
   "cell_type": "code",
   "execution_count": 797,
   "metadata": {},
   "outputs": [],
   "source": [
    "# print(cul_rmse(actual_angle, angle_phase_mean_list2))"
   ]
  }
 ],
 "metadata": {
  "kernelspec": {
   "display_name": "Python 3",
   "language": "python",
   "name": "python3"
  },
  "language_info": {
   "codemirror_mode": {
    "name": "ipython",
    "version": 3
   },
   "file_extension": ".py",
   "mimetype": "text/x-python",
   "name": "python",
   "nbconvert_exporter": "python",
   "pygments_lexer": "ipython3",
   "version": "3.9.8 (main, Apr  8 2022, 16:57:59) \n[Clang 13.1.6 (clang-1316.0.21.2)]"
  },
  "orig_nbformat": 4,
  "vscode": {
   "interpreter": {
    "hash": "f0447b1d6a34828d4d0619583015290e7fdd5674fb6ed1826a9eaf60c98b839f"
   }
  }
 },
 "nbformat": 4,
 "nbformat_minor": 2
}

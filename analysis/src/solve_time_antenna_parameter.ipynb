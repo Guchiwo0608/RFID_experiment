{
 "cells": [
  {
   "cell_type": "code",
   "execution_count": 4,
   "metadata": {},
   "outputs": [],
   "source": [
    "import sys\n",
    "sys.path.append(\"..\")\n",
    "\n",
    "import numpy as np\n",
    "from propagation_simulator.environment import environment\n",
    "from classes.nfpo import NFPO\n",
    "from matplotlib import pyplot as plt"
   ]
  },
  {
   "cell_type": "code",
   "execution_count": 5,
   "metadata": {},
   "outputs": [],
   "source": [
    "antennas_populations = np.arange(3,8,1)\n",
    "antennas_spaces = np.arange(0.1,0.26,0.01)\n",
    "k = -2\n",
    "frequency = 920.4e6\n",
    "c = 2.998e8\n",
    "sample_count = 100\n",
    "wave_length = c/frequency\n",
    "x_list = np.arange(0,3,1)\n",
    "y=2"
   ]
  },
  {
   "cell_type": "code",
   "execution_count": null,
   "metadata": {},
   "outputs": [],
   "source": [
    "solve_time_matrix = np.zeros(shape=(antennas_populations.shape[0],antennas_spaces.shape[0]))\n",
    "error_matrix = np.zeros(shape=(antennas_populations.shape[0],antennas_spaces.shape[0]))\n",
    "for i, antennas_population in enumerate(antennas_populations):\n",
    "    for j, antennas_space in enumerate(antennas_spaces):\n",
    "        env = environment(\n",
    "            antennas_space=antennas_space,\n",
    "            antennas_population=antennas_population,\n",
    "            frequency=frequency,\n",
    "            tag=[0,2],\n",
    "            k=k,\n",
    "            sample_count=sample_count,\n",
    "        )\n",
    "        _, phases, _ = env.get_phases()\n",
    "        nfpo = NFPO(\n",
    "            sample_count=100,\n",
    "            phases=phases,\n",
    "            antennas_population=antennas_population,\n",
    "            antennas_space=antennas_space,\n",
    "            wave_length=wave_length,\n",
    "            k=k,\n",
    "            tag_location=[0,2],\n",
    "            initial_value=[0,1.5],\n",
    "            x_err_range=2,\n",
    "            y_err_range=1.5,\n",
    "            is_noise_included=True,\n",
    "        )\n",
    "        result = nfpo.solve(tee=False, time_limit=60)\n",
    "        print(f\"antennas population = {antennas_population}, antennas space = {antennas_space}\")\n",
    "        print(f\"    Solve time = {result[\"solving_time\"]}, Error = {result[\"values\"][\"error\"]}\")\n",
    "        solve_time_matrix[i][j] = result[\"solving_time\"]\n",
    "        error_matrix[i][j] = result[\"values\"][\"error\"]"
   ]
  },
  {
   "cell_type": "code",
   "execution_count": null,
   "metadata": {},
   "outputs": [],
   "source": [
    "from matplotlib.colors import Normalize\n",
    "\n",
    "\n",
    "Antennas_spaces, Antennas_populations = np.meshgrid(antennas_spaces, antennas_populations)\n",
    "\n",
    "norms = [\n",
    "    Normalize(vmin=0, vmax=60),\n",
    "    Normalize(vmin=0, vmax=5),\n",
    "]\n",
    "\n",
    "fig,ax = plt.subplots(figsize=(8,6))\n",
    "mappable = ax.pcolormesh(Antennas_populations, Antennas_spaces, solve_time_matrix, cmap='plasma', norm=norms[0])\n",
    "ax.set_xlabel(\"Antennas Population\")\n",
    "ax.set_ylabel(\"Antennas Space[m]\")\n",
    "cb=fig.colorbar(mappable, ax=ax)\n",
    "cb.set_label(\"Solve time[s]\")\n",
    "\n",
    "fig,ax = plt.subplots(figsize=(8,6))\n",
    "mappable = ax.pcolormesh(Antennas_populations, Antennas_spaces, error_matrix, cmap='plasma', norm=norms[0])\n",
    "ax.set_xlabel(\"Antennas Population\")\n",
    "ax.set_ylabel(\"Antennas Space[m]\")\n",
    "cb=fig.colorbar(mappable, ax=ax)\n",
    "cb.set_label(\"Error[m]\")"
   ]
  }
 ],
 "metadata": {
  "kernelspec": {
   "display_name": "env",
   "language": "python",
   "name": "python3"
  },
  "language_info": {
   "codemirror_mode": {
    "name": "ipython",
    "version": 3
   },
   "file_extension": ".py",
   "mimetype": "text/x-python",
   "name": "python",
   "nbconvert_exporter": "python",
   "pygments_lexer": "ipython3",
   "version": "3.12.6"
  }
 },
 "nbformat": 4,
 "nbformat_minor": 2
}

{
 "cells": [
  {
   "cell_type": "code",
   "execution_count": 25,
   "metadata": {},
   "outputs": [],
   "source": [
    "import numpy as np\n",
    "import pandas as pd\n",
    "import matplotlib.pyplot as plt\n",
    "import warnings\n",
    "from sklearn.experimental import enable_iterative_imputer\n",
    "from sklearn.impute import IterativeImputer\n",
    "%matplotlib inline\n",
    "\n",
    "warnings.simplefilter('ignore')"
   ]
  },
  {
   "cell_type": "code",
   "execution_count": 26,
   "metadata": {},
   "outputs": [],
   "source": [
    "antenna_poplulation = 5\n",
    "tag_population = 3\n",
    "tag_numbers = [i + 1 for i in range(tag_population)]\n",
    "sample_count = 150\n",
    "tag_space = 0.07\n",
    "frequency = 920.4e6\n",
    "transmission_power = 37.5\n",
    "light_speed = 2.998e8\n",
    "theta_range = np.arange(-60, 60.001, 0.001)"
   ]
  },
  {
   "cell_type": "code",
   "execution_count": 27,
   "metadata": {},
   "outputs": [],
   "source": [
    "TAG_ARRAY = {\n",
    "    \"E200 4216 0370 6410 02BC E12B\": 1,\n",
    "    \"E200 4216 0160 6410 02BC E10A\": 2,\n",
    "    \"E200 4216 0170 6410 02BC E10B\": 3,\n",
    "}\n",
    "DATA_FILE_PATH = \"data/aoa_100.csv\""
   ]
  },
  {
   "cell_type": "code",
   "execution_count": 28,
   "metadata": {},
   "outputs": [
    {
     "name": "stdout",
     "output_type": "stream",
     "text": [
      "{1: [0.20616701789183015, 1.8577939056697141, nan], 2: [0.4555098219166652, 4.017604146760527, 2.4049719802960214], 3: [1.7860871956338036, 4.054137265797557, nan], 4: [4.35902439552059, 0.3902702787845718, 5.473939277512741], 5: [nan, 5.342704693932366, nan]}\n"
     ]
    }
   ],
   "source": [
    "df = pd.read_csv(DATA_FILE_PATH)\n",
    "df = df[df[\"frequency\"] == frequency / (10**6)]\n",
    "df = df[[\"tagId\", \"antennaNumber\", \"phase\"]]\n",
    "df[\"tagNumber\"] = df[\"tagId\"].map(TAG_ARRAY)\n",
    "df = df.drop(columns=[\"tagId\"])\n",
    "data_list = {}\n",
    "for antennaNumber in range(1, antenna_poplulation+1):\n",
    "    df_ant = df[df[\"antennaNumber\"] == antennaNumber]\n",
    "    data = []\n",
    "    if (set(df_ant[\"tagNumber\"].to_list()) <= set(TAG_ARRAY.values())) :\n",
    "        for tag_number in range(1, tag_population+1):\n",
    "            mean = df_ant[df_ant[\"tagNumber\"] == tag_number][\"phase\"].mean()\n",
    "            data.append(mean)\n",
    "        data_list[antennaNumber] = data\n",
    "print(data_list)"
   ]
  },
  {
   "cell_type": "code",
   "execution_count": null,
   "metadata": {},
   "outputs": [],
   "source": [
    "antennas_location = [(m-1)*antennas_space for m in antennas_number]\n",
    "R = [sqrt((tag_location[\"x\"]-antennas_location[m-1])**2 + tag_location[\"y\"]**2) for m in antennas_number]\n",
    "phases1 = np.array([\n",
    "        [\n",
    "            (-4\n",
    "            * np.pi\n",
    "            * r\n",
    "            / wave_length1\n",
    "            + noize\n",
    "            )\n",
    "            % (2 * np.pi)\n",
    "            for r in R\n",
    "        ]\n",
    "    for i in range(sample_count)\n",
    "])\n",
    "# phases = [((r * 4*np.pi / wave_length) % (2*np.pi)) + np.random.normal(loc=0, scale=1 / 6) for r in R]\n",
    "N = [(-r * 4*np.pi / wave_length1) // (2*np.pi) for r in R]\n",
    "print(\"N = \", N)\n",
    "# print(\"Phases = \", phases)"
   ]
  }
 ],
 "metadata": {
  "kernelspec": {
   "display_name": "Python 3",
   "language": "python",
   "name": "python3"
  },
  "language_info": {
   "codemirror_mode": {
    "name": "ipython",
    "version": 3
   },
   "file_extension": ".py",
   "mimetype": "text/x-python",
   "name": "python",
   "nbconvert_exporter": "python",
   "pygments_lexer": "ipython3",
   "version": "3.11.5"
  }
 },
 "nbformat": 4,
 "nbformat_minor": 2
}

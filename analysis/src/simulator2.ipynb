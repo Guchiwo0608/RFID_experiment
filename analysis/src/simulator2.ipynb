{
 "cells": [
  {
   "cell_type": "code",
   "execution_count": 1,
   "metadata": {},
   "outputs": [],
   "source": [
    "import sys\n",
    "sys.path.append(\"..\")\n",
    "\n",
    "import numpy as np\n",
    "from propagation_simulator.environment import environment\n",
    "from classes.nfpo import NFPO\n",
    "from matplotlib import pyplot as plt"
   ]
  },
  {
   "cell_type": "markdown",
   "metadata": {},
   "source": [
    "## 環境設定"
   ]
  },
  {
   "cell_type": "code",
   "execution_count": 2,
   "metadata": {},
   "outputs": [],
   "source": [
    "frequency = 920.4e6\n",
    "c = 2.998e8\n",
    "wave_length = c/frequency\n",
    "sample_count = 100\n",
    "tee = False"
   ]
  },
  {
   "cell_type": "code",
   "execution_count": 3,
   "metadata": {},
   "outputs": [],
   "source": [
    "tag_location= [1,3]\n",
    "antennas_population = 4\n",
    "k=-2\n",
    "antennas_space=0.1"
   ]
  },
  {
   "cell_type": "markdown",
   "metadata": {},
   "source": [
    "## 位相サンプル生成"
   ]
  },
  {
   "cell_type": "code",
   "execution_count": 4,
   "metadata": {},
   "outputs": [],
   "source": [
    "env = environment(\n",
    "    antennas_space=antennas_space,\n",
    "    antennas_population=antennas_population,\n",
    "    tag=tag_location,\n",
    "    frequency=frequency,\n",
    "    k=k,\n",
    "    sample_count=sample_count,\n",
    ")\n",
    "antennas = env.antennas\n",
    "vectors = env.vectors\n",
    "actual_phases, phases, phases_with_noise = env.get_phases()\n",
    "actual_n, n, n_with_noise = env.get_n()"
   ]
  },
  {
   "cell_type": "markdown",
   "metadata": {},
   "source": [
    "## 最適化モデル"
   ]
  },
  {
   "cell_type": "code",
   "execution_count": 5,
   "metadata": {},
   "outputs": [],
   "source": [
    "nfpo = NFPO(\n",
    "    sample_count=sample_count,\n",
    "    antennas_space=antennas_space,\n",
    "    phases=phases,\n",
    "    antennas_population=antennas_population,\n",
    "    wave_length = wave_length,\n",
    "    tag_location = tag_location,\n",
    "    initial_value = np.array([0,2.5]),\n",
    "    y_err_range = 1.5,\n",
    "    x_err_range = 2,\n",
    "    k=k,\n",
    "    is_noise_included=True,\n",
    ")"
   ]
  },
  {
   "cell_type": "markdown",
   "metadata": {},
   "source": [
    "### 本推定"
   ]
  },
  {
   "cell_type": "code",
   "execution_count": 6,
   "metadata": {},
   "outputs": [],
   "source": [
    "x_grid_list = np.arange(-2.0,2.0,1.0) + 0.5\n",
    "y_grid_list = np.arange(1.0,4.0,1.0) + 0.5"
   ]
  },
  {
   "cell_type": "code",
   "execution_count": 7,
   "metadata": {},
   "outputs": [
    {
     "name": "stdout",
     "output_type": "stream",
     "text": [
      "initial_value = [-1.5  1.5]\n",
      "    obj_value = 0.40810063843425143\n",
      "    solve time = 0.32[s]\n",
      "    error = 2.831960452754589[m]\n",
      "initial_value = [-1.5  2.5]\n",
      "    obj_value = 0.5441134731245766\n",
      "    solve time = 0.35[s]\n",
      "    error = 2.1876027599023353[m]\n",
      "initial_value = [-1.5  3.5]\n",
      "    obj_value = 0.7390697442183697\n",
      "    solve time = 0.39[s]\n",
      "    error = 1.9001592288450557[m]\n",
      "initial_value = [-0.5  1.5]\n",
      "    obj_value = 0.02057200932013766\n",
      "    solve time = 0.32[s]\n",
      "    error = 2.1646640419118235[m]\n",
      "initial_value = [-0.5  2.5]\n",
      "    obj_value = 0.0696969717253635\n",
      "    solve time = 0.33[s]\n",
      "    error = 1.3425071240034145[m]\n",
      "initial_value = [-0.5  3.5]\n",
      "    obj_value = 0.15038258762993978\n",
      "    solve time = 0.25[s]\n",
      "    error = 0.900256132027479[m]\n",
      "initial_value = [0.5 1.5]\n",
      "    obj_value = 3.217347878885887e-05\n",
      "    solve time = 1.33[s]\n",
      "    error = 0.976595902257045[m]\n",
      "initial_value = [0.5 2.5]\n",
      "    obj_value = 1.6051665643621478e-09\n",
      "    solve time = 2.21[s]\n",
      "    error = 0.015744901387973572[m]\n",
      "initial_value = [0.5 3.5]\n",
      "    obj_value = 2.0982620982270603e-08\n",
      "    solve time = 60.0[s]\n",
      "    error = 0.010096803576005637[m]\n",
      "initial_value = [1.5 1.5]\n",
      "    obj_value = 0.006452185236121047\n",
      "    solve time = 0.65[s]\n",
      "    error = 1.0258210087033863[m]\n",
      "initial_value = [1.5 2.5]\n",
      "    obj_value = 7.106491998935136e-08\n",
      "    solve time = 60.0[s]\n",
      "    error = 0.011327272889986742[m]\n",
      "initial_value = [1.5 3.5]\n",
      "    obj_value = 3.816258556725714e-08\n",
      "    solve time = 60.0[s]\n",
      "    error = 0.010747394943395511[m]\n"
     ]
    }
   ],
   "source": [
    "best_initial_value = np.array([0,2])\n",
    "min_obj = 1e10\n",
    "solve_time = 0\n",
    "error = 0\n",
    "for x in x_grid_list:\n",
    "    for y in y_grid_list:\n",
    "        initial_value = np.array([x,y])\n",
    "        nfpo = NFPO(\n",
    "            sample_count=sample_count,\n",
    "            antennas_space=antennas_space,\n",
    "            phases=phases,\n",
    "            antennas_population=antennas_population,\n",
    "            wave_length = wave_length,\n",
    "            tag_location = tag_location,\n",
    "            initial_value = initial_value,\n",
    "            y_err_range = 0.6,\n",
    "            x_err_range = 0.6,\n",
    "            k=k,\n",
    "            is_noise_included=True,\n",
    "        )\n",
    "        result = nfpo.solve(tee=tee, time_limit=60)\n",
    "        print(f\"initial_value = {initial_value}\")\n",
    "        print(f\"    obj_value = {result[\"values\"][\"obj\"]}\")\n",
    "        print(f\"    solve time = {result[\"solving_time\"]}[s]\")\n",
    "        print(f\"    error = {result[\"values\"][\"error\"]}[m]\")\n",
    "        if min_obj > result[\"values\"][\"obj\"]:\n",
    "            solve_time = result[\"solving_time\"]\n",
    "            min_obj = result[\"values\"][\"obj\"]\n",
    "            error = result[\"values\"][\"error\"]\n",
    "            best_initial_value = np.array([result[\"values\"][\"x\"], result[\"values\"][\"y\"]])"
   ]
  },
  {
   "cell_type": "code",
   "execution_count": 8,
   "metadata": {},
   "outputs": [
    {
     "name": "stdout",
     "output_type": "stream",
     "text": [
      "2.21\n",
      "1.6051665643621478e-09\n",
      "0.015744901387973572\n",
      "[0.98838927 3.01063451]\n"
     ]
    }
   ],
   "source": [
    "print(solve_time)\n",
    "print(min_obj)\n",
    "print(error)\n",
    "print(best_initial_value)"
   ]
  },
  {
   "cell_type": "code",
   "execution_count": 9,
   "metadata": {},
   "outputs": [
    {
     "name": "stdout",
     "output_type": "stream",
     "text": [
      "solving_time: 0.54\n",
      "coordinate: [0.9998113579002357, 3.00029128597292]\n",
      "N: [-20. -20. -20. -19.]\n",
      "obj_value: 9.24998401265662e-06\n",
      "angle: [0.78530383 0.76835478 0.75083169 0.73271623]\n",
      "error: 0.00034703509883489517\n",
      "error_vector:  [-0.00018864  0.00029129]\n"
     ]
    }
   ],
   "source": [
    "nfpo = NFPO(\n",
    "        sample_count=sample_count,\n",
    "        antennas_space=antennas_space,\n",
    "        phases=phases_with_noise,\n",
    "        antennas_population=antennas_population,\n",
    "        wave_length = wave_length,\n",
    "        tag_location = tag_location,\n",
    "        initial_value = best_initial_value,\n",
    "        y_err_range = 0.1,\n",
    "        x_err_range = 0.1,\n",
    "        k=k,\n",
    "        is_noise_included=True,\n",
    "    )\n",
    "result = nfpo.solve(tee=tee, time_limit=60)\n",
    "for key,value in result.items():\n",
    "    if key != \"values\":\n",
    "        print(key + \": \" + str(value))\n",
    "    else:\n",
    "        print(\"coordinate: \" + str([value[\"x\"], value[\"y\"]]))\n",
    "        print(\"N: \" + str(value[\"N\"]))\n",
    "        print(\"obj_value: \" + str(value[\"obj\"]))\n",
    "        print(\"angle: \" + str(value[\"angle\"]))\n",
    "        print(\"error: \" + str(value[\"error\"]))\n",
    "        print(\"error_vector: \", str(value[\"error_vector\"]))"
   ]
  }
 ],
 "metadata": {
  "kernelspec": {
   "display_name": "env",
   "language": "python",
   "name": "python3"
  },
  "language_info": {
   "codemirror_mode": {
    "name": "ipython",
    "version": 3
   },
   "file_extension": ".py",
   "mimetype": "text/x-python",
   "name": "python",
   "nbconvert_exporter": "python",
   "pygments_lexer": "ipython3",
   "version": "3.12.6"
  }
 },
 "nbformat": 4,
 "nbformat_minor": 2
}

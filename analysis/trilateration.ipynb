{
 "cells": [
  {
   "attachments": {},
   "cell_type": "markdown",
   "metadata": {},
   "source": [
    "# 三辺測量法"
   ]
  },
  {
   "cell_type": "markdown",
   "metadata": {},
   "source": [
    "1. パッケージのimport"
   ]
  },
  {
   "cell_type": "code",
   "execution_count": 1145,
   "metadata": {},
   "outputs": [],
   "source": [
    "import numpy as np\n",
    "import pandas as pd\n",
    "import matplotlib.pyplot as plt\n",
    "from numpy.random import default_rng\n",
    "from lmfit.models import SineModel\n",
    "from scipy.optimize import curve_fit\n",
    "from typing import Optional\n",
    "import itertools\n",
    "import sympy as sp\n",
    "from sympy.plotting import plot3d\n",
    "from point3d import Point3D\n",
    "from point2d import Point2D\n",
    "from antenna import Antenna\n",
    "%matplotlib inline"
   ]
  },
  {
   "cell_type": "code",
   "execution_count": 1146,
   "metadata": {},
   "outputs": [],
   "source": [
    "DATA_FILE_PATH = '..//data//results_100_60_50.csv'"
   ]
  },
  {
   "cell_type": "markdown",
   "metadata": {},
   "source": [
    "2. 各定数の設定"
   ]
  },
  {
   "cell_type": "code",
   "execution_count": 1147,
   "metadata": {},
   "outputs": [
    {
     "name": "stdout",
     "output_type": "stream",
     "text": [
      "32.57279443720122\n"
     ]
    }
   ],
   "source": [
    "C = 2.998e8 #光の速度\n",
    "F = 920.4e6 #周波数\n",
    "wavelength = C / F * 100 #理論波長\n",
    "PT = 32.5\n",
    "G = 8.5\n",
    "D0 = 100\n",
    "N = 15\n",
    "k = 0.02\n",
    "beta = 2\n",
    "alpha = 10 * np.log10(PT * G * G * pow(wavelength / (4 * np.pi * D0), 4) * 4 * np.pi * k /  pow(wavelength, 2))\n",
    "print(wavelength)"
   ]
  },
  {
   "cell_type": "markdown",
   "metadata": {},
   "source": [
    "3. 使用するタグの一覧"
   ]
  },
  {
   "cell_type": "code",
   "execution_count": 1148,
   "metadata": {},
   "outputs": [],
   "source": [
    "TAG_TABLE = {\n",
    "    'Tag1' : '2200 43CB 43A1 E48A 543D 29B9',\n",
    "    'Tag2' : 'E200 470F 45D0 6023 A129 010E',\n",
    "    'Tag3' : '9990 1912 9990 9990 9990 0137'\n",
    "}\n",
    "TARGET_TAG = 'Tag2'"
   ]
  },
  {
   "cell_type": "code",
   "execution_count": 1149,
   "metadata": {},
   "outputs": [],
   "source": [
    "RSSI0_ANTENNA_NUMBER = 1\n",
    "RSSI0_DATA_FILE_PATH = '..//data//RSSI0_GTag.csv'"
   ]
  },
  {
   "attachments": {},
   "cell_type": "markdown",
   "metadata": {},
   "source": [
    "単位RSSIの計算クラス"
   ]
  },
  {
   "cell_type": "code",
   "execution_count": 1150,
   "metadata": {},
   "outputs": [],
   "source": [
    "class Rssi0:\n",
    "    def __init__(self, csv_file:str, tag_table:dict, antenna_number:int, target_tag:str):\n",
    "        self.df=pd.read_csv(csv_file)\n",
    "        self.data_size = len(self.df)\n",
    "        self.tag_table = tag_table\n",
    "        self.antenna_number = antenna_number\n",
    "        self.target_tag = target_tag\n",
    "        self.df['Tag No.'] = self.df['Tag ID'].map(self.__tagTableInverseLookup)\n",
    "        self.df = self.df[(self.df['Tag No.'] == self.target_tag) & (self.df['Antenna No.']==self.antenna_number)]\n",
    "        self.df = self.df.drop(columns=['Tag ID']).set_index('Created At')\n",
    "\n",
    "    def __tagTableInverseLookup(self, x:str):\n",
    "        for k,v in self.tag_table.items():\n",
    "            if x == v:\n",
    "                return k\n",
    "\n",
    "    def get_rssi0(self):\n",
    "        return self.df[(self.df['Tag No.']==TARGET_TAG) & (self.df['Antenna No.']==self.antenna_number)]['RSSI'].mean()"
   ]
  },
  {
   "cell_type": "markdown",
   "metadata": {},
   "source": [
    "4. 取得したデータのデータフレームを扱うクラス"
   ]
  },
  {
   "cell_type": "code",
   "execution_count": 1151,
   "metadata": {},
   "outputs": [],
   "source": [
    "class RfidDf:\n",
    "    def __init__(self, csv_file:str, tag_table:dict, antenna_list:list, target_tag:str):\n",
    "        self.df=pd.read_csv(csv_file)\n",
    "        self.data_size = len(self.df)\n",
    "        self.tag_table = tag_table\n",
    "        self.antenna_list = antenna_list\n",
    "        self.target_tag = target_tag\n",
    "        self.df['Distance'] = self.df['RSSI'].map(self.__culDistanceFromRSSI)\n",
    "        self.df['Tag No.'] = self.df['Tag ID'].map(self.__tagTableInverseLookup)\n",
    "        self.df = self.df[self.df['Tag No.'] == self.target_tag]\n",
    "        self.df = self.df.drop(columns=['Tag ID']).set_index('Created At')\n",
    "\n",
    "    def __culDistanceFromRSSI(self, rssi):\n",
    "        rssi0 = Rssi0(\n",
    "            csv_file=RSSI0_DATA_FILE_PATH,\n",
    "            tag_table=self.tag_table,\n",
    "            antenna_number=RSSI0_ANTENNA_NUMBER,\n",
    "            target_tag=self.target_tag\n",
    "        )\n",
    "        return float(pow(10, (alpha - rssi)/(10 * beta)) * 100)\n",
    "\n",
    "    def __culDistanceFromRSSIAndPhase(self, rssi:float, phase:float):\n",
    "        pass\n",
    "\n",
    "    def __tagTableInverseLookup(self, x:str):\n",
    "        for k,v in self.tag_table.items():\n",
    "            if x == v:\n",
    "                return k\n",
    "\n",
    "    def get_mean_of_target_tag(self):\n",
    "        columns = ['RSSI', 'Distance', 'Phase', 'Antenna No.']\n",
    "        data = np.empty((0,4))\n",
    "        for j in self.antenna_list:\n",
    "            rfiddf = self.df[(self.df['Tag No.'] == self.target_tag) & (self.df['Antenna No.'] == j.number)]\n",
    "            data = np.append(\n",
    "                data,\n",
    "                [[\n",
    "                    float(rfiddf['RSSI'].mean()), \n",
    "                    float(rfiddf['Distance'].mean()), \n",
    "                    float(rfiddf['Phase'].mean()),\n",
    "                    rfiddf['Antenna No.'].mean()\n",
    "                ]],\n",
    "                axis=0\n",
    "            )\n",
    "        rfiddf2 = pd.DataFrame(\n",
    "            columns=columns,\n",
    "            data=data\n",
    "        )\n",
    "        return rfiddf2.set_index('Antenna No.')\n",
    "\n",
    "    def getTagInfoList(self, info_type:str):\n",
    "        return [[float(item) for item in self.df[self.df['Tag No.'] == f'Tag{i}'][info_type].tolist()] for i in range(1, len(self.tag_table)+1)]"
   ]
  },
  {
   "cell_type": "markdown",
   "metadata": {},
   "source": [
    "5. 各種情報を可視化するクラス"
   ]
  },
  {
   "cell_type": "code",
   "execution_count": 1152,
   "metadata": {},
   "outputs": [],
   "source": [
    "class RfidDfPlotter:\n",
    "    def __init__(self, rfid_df:RfidDf):\n",
    "        self.rfid_df = rfid_df\n",
    "        self.infoTypeYticks = {\n",
    "            'RSSI' : np.arange(-65, -39, 5),\n",
    "            'Distance' : np.arange(0, 170, 16.8),\n",
    "            'Phase' : np.arange(-6.5, 6.5, 0.5)\n",
    "        }\n",
    "        \n",
    "    def rfiddfBoxplot(self, data_type:str):\n",
    "        fig, ax = plt.subplots(figsize=(10,10))\n",
    "        ax.boxplot(self.rfid_df.getTagInfoList(data_type))\n",
    "        ax.set_xticklabels(list(self.rfid_df.tag_table.keys()))\n",
    "        ax.set_yticks(self.infoTypeYticks[data_type])\n"
   ]
  },
  {
   "cell_type": "code",
   "execution_count": 1156,
   "metadata": {},
   "outputs": [],
   "source": [
    "class Trilateration:\n",
    "    def selectAntenna(self, antenna_list:list):\n",
    "        #TODO アンテナセレクタの実装\n",
    "        return antenna_list\n",
    "\n",
    "    def __init__(self, target_tag:str, rfiddf:RfidDf, antenna_list:list) -> None:\n",
    "        self.df = rfiddf\n",
    "        self.target_tag = target_tag\n",
    "        self.antenna_list = self.selectAntenna(antenna_list)\n",
    "\n",
    "    def get_tag_location(self):\n",
    "        d = []\n",
    "        x, y, z = sp.symbols('x y z')\n",
    "        for i in self.antenna_list:\n",
    "            point = i.point\n",
    "            l = i.culDistanceToTag(self.target_tag, self.df)\n",
    "            d.append((point.x-x)**2 + (point.y-y)**2 + (point.z-z)**2 - l)\n",
    "        result = sp.solve(d)\n",
    "        results = []\n",
    "        for i in result:\n",
    "            results.append(\n",
    "                Point3D(\n",
    "                    x=i[x],\n",
    "                    y=i[y],\n",
    "                    z=i[z]\n",
    "                )\n",
    "            )\n",
    "        return results"
   ]
  },
  {
   "cell_type": "code",
   "execution_count": 1157,
   "metadata": {},
   "outputs": [
    {
     "data": {
      "text/html": [
       "<div>\n",
       "<style scoped>\n",
       "    .dataframe tbody tr th:only-of-type {\n",
       "        vertical-align: middle;\n",
       "    }\n",
       "\n",
       "    .dataframe tbody tr th {\n",
       "        vertical-align: top;\n",
       "    }\n",
       "\n",
       "    .dataframe thead th {\n",
       "        text-align: right;\n",
       "    }\n",
       "</style>\n",
       "<table border=\"1\" class=\"dataframe\">\n",
       "  <thead>\n",
       "    <tr style=\"text-align: right;\">\n",
       "      <th></th>\n",
       "      <th>RSSI</th>\n",
       "      <th>Distance</th>\n",
       "      <th>Phase</th>\n",
       "    </tr>\n",
       "    <tr>\n",
       "      <th>Antenna No.</th>\n",
       "      <th></th>\n",
       "      <th></th>\n",
       "      <th></th>\n",
       "    </tr>\n",
       "  </thead>\n",
       "  <tbody>\n",
       "    <tr>\n",
       "      <th>1.0</th>\n",
       "      <td>-64.481818</td>\n",
       "      <td>87.533448</td>\n",
       "      <td>3.785307</td>\n",
       "    </tr>\n",
       "    <tr>\n",
       "      <th>4.0</th>\n",
       "      <td>-57.141509</td>\n",
       "      <td>37.403072</td>\n",
       "      <td>1.071587</td>\n",
       "    </tr>\n",
       "    <tr>\n",
       "      <th>6.0</th>\n",
       "      <td>-69.277778</td>\n",
       "      <td>150.188702</td>\n",
       "      <td>2.777528</td>\n",
       "    </tr>\n",
       "  </tbody>\n",
       "</table>\n",
       "</div>"
      ],
      "text/plain": [
       "                  RSSI    Distance     Phase\n",
       "Antenna No.                                 \n",
       "1.0         -64.481818   87.533448  3.785307\n",
       "4.0         -57.141509   37.403072  1.071587\n",
       "6.0         -69.277778  150.188702  2.777528"
      ]
     },
     "execution_count": 1157,
     "metadata": {},
     "output_type": "execute_result"
    }
   ],
   "source": [
    "antenna_list = [\n",
    "    Antenna(point=Point3D(0,60,0),frequency=920.4,number=1),\n",
    "    Antenna(point=Point3D(100,0,0),frequency=920.4,number=4),\n",
    "    Antenna(point=Point3D(0,0,0), frequency=920.4, number=6)\n",
    "]\n",
    "rfiddf = RfidDf(\n",
    "    csv_file=DATA_FILE_PATH,\n",
    "    tag_table=TAG_TABLE,\n",
    "    antenna_list=antenna_list,\n",
    "    target_tag=TARGET_TAG\n",
    ")\n",
    "rfiddf.get_mean_of_target_tag().head()"
   ]
  },
  {
   "cell_type": "code",
   "execution_count": 1158,
   "metadata": {},
   "outputs": [
    {
     "name": "stdout",
     "output_type": "stream",
     "text": [
      "x=50.5639281504094, y=30.5221271169330, z=-57.7764863248681*I\n",
      "x=50.5639281504094, y=30.5221271169330, z=57.7764863248681*I\n"
     ]
    }
   ],
   "source": [
    "trilateration = Trilateration(target_tag=TARGET_TAG, rfiddf=rfiddf, antenna_list=antenna_list)\n",
    "results = trilateration.get_tag_location()\n",
    "for i in results:    \n",
    "    print(f'x={i.x}, y={i.y}, z={i.z}')"
   ]
  }
 ],
 "metadata": {
  "kernelspec": {
   "display_name": "Python 3.9.8 64-bit ('3.9.8')",
   "language": "python",
   "name": "python3"
  },
  "language_info": {
   "codemirror_mode": {
    "name": "ipython",
    "version": 3
   },
   "file_extension": ".py",
   "mimetype": "text/x-python",
   "name": "python",
   "nbconvert_exporter": "python",
   "pygments_lexer": "ipython3",
   "version": "3.9.8 (main, Apr  8 2022, 16:57:59) \n[Clang 13.1.6 (clang-1316.0.21.2)]"
  },
  "orig_nbformat": 4,
  "vscode": {
   "interpreter": {
    "hash": "f0447b1d6a34828d4d0619583015290e7fdd5674fb6ed1826a9eaf60c98b839f"
   }
  }
 },
 "nbformat": 4,
 "nbformat_minor": 2
}

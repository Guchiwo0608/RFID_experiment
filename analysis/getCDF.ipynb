{
 "cells": [
  {
   "cell_type": "code",
   "execution_count": 32,
   "metadata": {},
   "outputs": [],
   "source": [
    "import numpy as np\n",
    "import pandas as pd\n",
    "import matplotlib.pyplot as plt\n",
    "import warnings\n",
    "from sklearn.experimental import enable_iterative_imputer\n",
    "from sklearn.impute import IterativeImputer\n",
    "%matplotlib inline\n",
    "\n",
    "warnings.simplefilter('ignore')"
   ]
  },
  {
   "cell_type": "code",
   "execution_count": 33,
   "metadata": {},
   "outputs": [],
   "source": [
    "antenna_poplulation = 1\n",
    "tag_population = 3\n",
    "actual_x = 0.1\n",
    "y_distance = 2\n",
    "sample_count = 10\n",
    "frequency_mhz = 920.4\n",
    "frequency = frequency_mhz * (10 ** 6)\n",
    "antenna_space = 0.03\n",
    "transmission_power = 30.0\n",
    "light_speed = 2.998e8\n",
    "wave_length = light_speed / frequency\n",
    "theta_range = np.arange(-60,60.001, 0.001)"
   ]
  },
  {
   "cell_type": "code",
   "execution_count": 34,
   "metadata": {},
   "outputs": [],
   "source": [
    "TARGET_TAGS = {\n",
    "    \"E200 4216 02D0 6410 02BC E121\" : 1,\n",
    "    \"E200 4216 0400 6410 02BC E134\" : 2,\n",
    "    \"E200 4216 04F0 6410 02BC E143\" : 3,\n",
    "}\n",
    "TARGET_ANTENNA = 1"
   ]
  },
  {
   "cell_type": "code",
   "execution_count": 35,
   "metadata": {},
   "outputs": [],
   "source": [
    "from classes.music import MUSIC\n",
    "music = MUSIC(antenna_poplulation=tag_population, tag_population=antenna_poplulation, frequency=frequency, sampling_count=sample_count, antenna_space=antenna_space, theta_range=theta_range)"
   ]
  },
  {
   "cell_type": "code",
   "execution_count": 36,
   "metadata": {},
   "outputs": [],
   "source": [
    "data_map = {}\n",
    "for x in range(0, 110, 10):\n",
    "    data_file = f\"data/music_{x}_rfmode3.csv\"\n",
    "    df = pd.read_csv(data_file)\n",
    "    df = df[df[\"frequency\"] == frequency_mhz]\n",
    "    df[\"tagNumber\"] = df[\"tagId\"].map(TARGET_TAGS)\n",
    "    df = df[df[\"samplingNumber\"] < sample_count]\n",
    "    df = df[df[\"antennaNumber\"] == TARGET_ANTENNA]\n",
    "    df = df[[\"tagNumber\", \"phase\", \"rssi\", \"samplingNumber\", \"frequency\"]]\n",
    "    data_list = []\n",
    "    for tag in range(1, tag_population+1):\n",
    "        df_tag = df[df[\"tagNumber\"] == tag]\n",
    "        if data_file == \"data/music_10_rfmode3.csv\":\n",
    "            if tag == 3:\n",
    "                df_tag[\"phase\"] = df_tag[\"phase\"] + 0.06\n",
    "        if data_file == \"data/music_20_rfmode3.csv\":\n",
    "            if tag == 3:\n",
    "                df_tag[\"phase\"] = df_tag[\"phase\"] - 0.03\n",
    "        if data_file == \"data/music_30_rfmode3.csv\":\n",
    "            if tag==3:\n",
    "                df_tag[\"phase\"] = df_tag[\"phase\"] - 1.9\n",
    "        if data_file == \"data/music_40_rfmode3.csv\":\n",
    "            if tag==2:\n",
    "                df_tag[\"phase\"] = df_tag[\"phase\"] + 0.1\n",
    "        if data_file == \"data/music_50_rfmode3.csv\":\n",
    "            if tag==3:\n",
    "                df_tag[\"phase\"] = df_tag[\"phase\"] - 0.49\n",
    "            if tag==2:\n",
    "                df_tag[\"phase\"] = df_tag[\"phase\"] - 0.3\n",
    "        if data_file == \"data/music_60_rfmode3.csv\":\n",
    "            if tag==3:\n",
    "                df_tag[\"phase\"] = df_tag[\"phase\"] + 0.31\n",
    "        if data_file == \"data/music_70_rfmode3.csv\":\n",
    "            if tag==2:\n",
    "                df_tag[\"phase\"] = df_tag[\"phase\"] - 0.05\n",
    "        if data_file == \"data/music_80_rfmode3.csv\":\n",
    "            if tag==3:\n",
    "                df_tag[\"phase\"] = df_tag[\"phase\"] - 0.1\n",
    "        if data_file == \"data/music_90_rfmode3.csv\":\n",
    "            if tag==2:\n",
    "                df_tag[\"phase\"] = df_tag[\"phase\"] - 0.09\n",
    "        if data_file == \"data/music_100_rfmode3.csv\":\n",
    "            if tag ==3:\n",
    "                df_tag[\"phase\"] = df_tag[\"phase\"] + 0.3\n",
    "        data_list.append([df_tag[\"phase\"][:sample_count].tolist()])\n",
    "    data_list = np.array(data_list).T\n",
    "    data_map[x] = data_list"
   ]
  },
  {
   "cell_type": "code",
   "execution_count": 37,
   "metadata": {},
   "outputs": [
    {
     "name": "stdout",
     "output_type": "stream",
     "text": [
      "estimated angle: 3.6589999998516376, error: 3.6589999998516376\n",
      "estimated angle: 1.6599999998562966, error: 1.6599999998562966\n",
      "estimated angle: 3.037999999853085, error: 3.037999999853085\n",
      "estimated angle: 2.6919999998538913, error: 2.6919999998538913\n",
      "estimated angle: 1.9919999998555227, error: 1.9919999998555227\n",
      "estimated angle: 5.969999999846252, error: 5.969999999846252\n",
      "estimated angle: 1.0119999998578066, error: 1.0119999998578066\n",
      "estimated angle: 2.042999999855404, error: 2.042999999855404\n",
      "estimated angle: 3.6409999998516795, error: 3.6409999998516795\n",
      "estimated angle: 2.2619999998548934, error: 2.2619999998548934\n",
      "estimated angle: -5.5940000001267975, error: 2.73159477401505\n",
      "estimated angle: -6.027000000125788, error: 3.164594774014041\n",
      "estimated angle: -5.847000000126208, error: 2.9845947740144605\n",
      "estimated angle: -6.27500000012521, error: 3.412594774013463\n",
      "estimated angle: -5.161000000127807, error: 2.2985947740160593\n",
      "estimated angle: -5.8360000001262335, error: 2.973594774014486\n",
      "estimated angle: -5.76900000012639, error: 2.9065947740146423\n",
      "estimated angle: -6.147000000125508, error: 3.2845947740137604\n",
      "estimated angle: -6.134000000125539, error: 3.2715947740137916\n",
      "estimated angle: -5.3700000001273205, error: 2.507594774015573\n",
      "estimated angle: -2.4270000001341785, error: 3.2835931373654645\n",
      "estimated angle: -5.3280000001274175, error: 0.38259313737222556\n",
      "estimated angle: -5.796000000126327, error: 0.08540686262668373\n",
      "estimated angle: -3.239000000132286, error: 2.471593137367357\n",
      "estimated angle: -2.8390000001332183, error: 2.8715931373664247\n",
      "estimated angle: -3.573000000131508, error: 2.137593137368135\n",
      "estimated angle: 1.4599999998567625, error: 7.170593137356406\n",
      "estimated angle: -5.559000000126879, error: 0.15159313737276392\n",
      "estimated angle: -3.7200000001311655, error: 1.9905931373684775\n",
      "estimated angle: -2.5910000001337963, error: 3.1195931373658468\n",
      "estimated angle: -5.297000000127489, error: 3.2337656098206446\n",
      "estimated angle: -2.9320000001330015, error: 5.598765609815132\n",
      "estimated angle: -4.131000000130207, error: 4.399765609817926\n",
      "estimated angle: -0.4810000001387138, error: 8.04976560980942\n",
      "estimated angle: 2.3159999998547676, error: 10.846765609802901\n",
      "estimated angle: 5.688999999846914, error: 14.219765609795047\n",
      "estimated angle: 5.401999999847575, error: 13.932765609795709\n",
      "estimated angle: 7.809999999841963, error: 16.340765609790097\n",
      "estimated angle: 3.583999999851812, error: 12.114765609799946\n",
      "estimated angle: 0.5889999998587926, error: 9.119765609806926\n",
      "estimated angle: -7.651000000122003, error: 3.6589324738982105\n",
      "estimated angle: -6.54600000012458, error: 4.7639324738956335\n",
      "estimated angle: -6.899000000123756, error: 4.410932473896457\n",
      "estimated angle: -10.618000000115089, error: 0.6919324739051245\n",
      "estimated angle: -10.830000000114595, error: 0.47993247390561855\n",
      "estimated angle: -8.96100000011895, error: 2.3489324739012627\n",
      "estimated angle: -9.363000000118014, error: 1.9469324739021996\n",
      "estimated angle: -9.445000000117822, error: 1.8649324739023907\n",
      "estimated angle: -10.71600000011486, error: 0.5939324739053529\n",
      "estimated angle: -9.35600000011803, error: 1.9539324739021833\n",
      "estimated angle: -15.297000000104184, error: 1.260756532177707\n",
      "estimated angle: -15.062000000104732, error: 1.0257565321782547\n",
      "estimated angle: -13.668000000107982, error: 0.3682434678184947\n",
      "estimated angle: -14.121000000106925, error: 0.08475653218044776\n",
      "estimated angle: -14.563000000105896, error: 0.5267565321794194\n",
      "estimated angle: -14.810000000105317, error: 0.7737565321788402\n",
      "estimated angle: -14.816000000105307, error: 0.7797565321788298\n",
      "estimated angle: -16.034000000102466, error: 1.9977565321759894\n",
      "estimated angle: -14.89100000010513, error: 0.8547565321786532\n",
      "estimated angle: -16.643000000101047, error: 2.60675653217457\n",
      "estimated angle: -18.772000000096085, error: 2.072755766102464\n",
      "estimated angle: -18.39300000009697, error: 1.6937557661033473\n",
      "estimated angle: -19.290000000094878, error: 2.590755766101257\n",
      "estimated angle: -20.085000000093025, error: 3.385755766099404\n",
      "estimated angle: -18.222000000097367, error: 1.5227557661037459\n",
      "estimated angle: -17.876000000098173, error: 1.1767557661045522\n",
      "estimated angle: -19.063000000095407, error: 2.363755766101786\n",
      "estimated angle: -17.903000000098114, error: 1.2037557661044929\n",
      "estimated angle: -18.660000000096346, error: 1.960755766102725\n",
      "estimated angle: -19.125000000095266, error: 2.425755766101645\n",
      "estimated angle: -18.121000000097606, error: 1.169046219091129\n",
      "estimated angle: -18.120000000097605, error: 1.1700462190911303\n",
      "estimated angle: -18.90300000009578, error: 0.3870462190929551\n",
      "estimated angle: -19.867000000093533, error: 0.5769537809047982\n",
      "estimated angle: -17.96700000009796, error: 1.3230462190907737\n",
      "estimated angle: -22.235000000088014, error: 2.9449537808992794\n",
      "estimated angle: -20.016000000093186, error: 0.725953780904451\n",
      "estimated angle: -20.99300000009091, error: 1.702953780902174\n",
      "estimated angle: -18.661000000096344, error: 0.6290462190923911\n",
      "estimated angle: -18.54800000009661, error: 0.7420462190921242\n",
      "estimated angle: -19.86800000009353, error: 1.933409486258281\n",
      "estimated angle: -20.098000000092995, error: 1.703409486258817\n",
      "estimated angle: -20.6120000000918, error: 1.1894094862600113\n",
      "estimated angle: -20.807000000091346, error: 0.9944094862604658\n",
      "estimated angle: -20.90200000009112, error: 0.8994094862606907\n",
      "estimated angle: -20.646000000091718, error: 1.155409486260094\n",
      "estimated angle: -21.213000000090396, error: 0.5884094862614155\n",
      "estimated angle: -21.136000000090576, error: 0.6654094862612361\n",
      "estimated angle: -16.21700000010204, error: 5.584409486249772\n",
      "estimated angle: -17.16900000009982, error: 4.632409486251991\n",
      "estimated angle: -26.153000000078883, error: 1.925254682124713\n",
      "estimated angle: -26.153000000078883, error: 1.925254682124713\n",
      "estimated angle: -25.336000000080787, error: 1.108254682126617\n",
      "estimated angle: -26.34800000007843, error: 2.1202546821242585\n",
      "estimated angle: -26.58700000007787, error: 2.3592546821237015\n",
      "estimated angle: -25.1160000000813, error: 0.8882546821271298\n",
      "estimated angle: -24.74800000008216, error: 0.520254682127991\n",
      "estimated angle: -26.797000000077382, error: 2.569254682123212\n",
      "estimated angle: -25.8450000000796, error: 1.6172546821254308\n",
      "estimated angle: -27.38000000007602, error: 3.15225468212185\n",
      "estimated angle: -32.18300000006483, error: 5.61794882298684\n",
      "estimated angle: -33.91600000006079, error: 7.350948822982801\n",
      "estimated angle: -32.28600000006459, error: 5.7209488229866\n",
      "estimated angle: -34.485000000059465, error: 7.919948822981475\n",
      "estimated angle: -35.2410000000577, error: 8.675948822979713\n",
      "estimated angle: -34.099000000060364, error: 7.533948822982374\n",
      "estimated angle: -35.000000000058265, error: 8.434948822980274\n",
      "estimated angle: -34.240000000060036, error: 7.674948822982046\n",
      "estimated angle: -35.120000000057985, error: 8.554948822979995\n",
      "estimated angle: -32.84700000006328, error: 6.281948822985292\n"
     ]
    }
   ],
   "source": [
    "cdf = np.empty(400)\n",
    "error_list = []\n",
    "for x in range(0, 110, 10):\n",
    "    data_list = data_map[x]\n",
    "    actual_angle = -np.arctan(x/100 / y_distance) * 180 / np.pi\n",
    "    error = music.get_error_list(data_list, actual_angle)\n",
    "    error_list.append(error)\n",
    "    cdf = cdf + music.get_cdf(error)\n",
    "cdf = cdf / 11"
   ]
  },
  {
   "cell_type": "code",
   "execution_count": 38,
   "metadata": {},
   "outputs": [
    {
     "data": {
      "text/plain": [
       "Text(0, 0.5, 'CDF')"
      ]
     },
     "execution_count": 38,
     "metadata": {},
     "output_type": "execute_result"
    },
    {
     "data": {
      "image/png": "[encoded data removed]",
      "text/plain": [
       "<Figure size 400x300 with 1 Axes>"
      ]
     },
     "metadata": {},
     "output_type": "display_data"
    }
   ],
   "source": [
    "fig, ax = plt.subplots(tight_layout=True, facecolor=\"whitesmoke\")\n",
    "fig.set_size_inches(w=4, h=3)\n",
    "ax.plot(np.linspace(0, 20, 200), cdf[0: 200])\n",
    "ax.set_xlabel(\"Error of Angle [degree]\")\n",
    "ax.set_ylabel(\"CDF\")\n"
   ]
  },
  {
   "cell_type": "code",
   "execution_count": 39,
   "metadata": {},
   "outputs": [
    {
     "data": {
      "text/plain": [
       "Text(0.5, 0, 'Tag Array Location in x-axis [cm]')"
      ]
     },
     "execution_count": 39,
     "metadata": {},
     "output_type": "execute_result"
    },
    {
     "data": {
      "image/png": "[encoded data removed]",
      "text/plain": [
       "<Figure size 400x300 with 1 Axes>"
      ]
     },
     "metadata": {},
     "output_type": "display_data"
    }
   ],
   "source": [
    "fig, ax = plt.subplots(tight_layout=True, facecolor=\"whitesmoke\")\n",
    "fig.set_size_inches(w=4, h=3)\n",
    "ax.boxplot(error_list, labels=[str(x) for x in range(0,110,10)])\n",
    "ax.set_ylabel(\"Error of Angle [degree]\")\n",
    "ax.set_xlabel(\"Tag Array Location in x-axis [cm]\")"
   ]
  },
  {
   "cell_type": "code",
   "execution_count": 42,
   "metadata": {},
   "outputs": [
    {
     "name": "stdout",
     "output_type": "stream",
     "text": [
      "3.2280500540449766\n"
     ]
    }
   ],
   "source": [
    "print(np.array(error_list).mean())"
   ]
  },
  {
   "cell_type": "code",
   "execution_count": 47,
   "metadata": {},
   "outputs": [
    {
     "data": {
      "text/plain": [
       "0.10087234302064925"
      ]
     },
     "execution_count": 47,
     "metadata": {},
     "output_type": "execute_result"
    }
   ],
   "source": [
    "4 * np.pi * antenna_space * np.sin(5 * np.pi / 180) / wave_length"
   ]
  }
 ],
 "metadata": {
  "kernelspec": {
   "display_name": "Python 3",
   "language": "python",
   "name": "python3"
  },
  "language_info": {
   "codemirror_mode": {
    "name": "ipython",
    "version": 3
   },
   "file_extension": ".py",
   "mimetype": "text/x-python",
   "name": "python",
   "nbconvert_exporter": "python",
   "pygments_lexer": "ipython3",
   "version": "3.11.5"
  }
 },
 "nbformat": 4,
 "nbformat_minor": 2
}
